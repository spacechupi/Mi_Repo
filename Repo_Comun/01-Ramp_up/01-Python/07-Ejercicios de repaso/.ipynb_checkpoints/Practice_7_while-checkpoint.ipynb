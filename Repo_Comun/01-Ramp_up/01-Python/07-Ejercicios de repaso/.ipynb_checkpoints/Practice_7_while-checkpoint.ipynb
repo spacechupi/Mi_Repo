{
 "cells": [
  {
   "cell_type": "markdown",
   "metadata": {},
   "source": [
    "# Python | day 7 | while"
   ]
  },
  {
   "cell_type": "markdown",
   "metadata": {},
   "source": [
    "With the **while** loop we can execute a set of statements as long as a condition is true."
   ]
  },
  {
   "cell_type": "markdown",
   "metadata": {},
   "source": [
    "```python\n",
    "i = 1\n",
    "while i < 6:\n",
    "  print(i)\n",
    "  i += 1\n",
    "```"
   ]
  },
  {
   "cell_type": "markdown",
   "metadata": {},
   "source": [
    "https://www.w3schools.com/python/python_while_loops.asp"
   ]
  },
  {
   "cell_type": "markdown",
   "metadata": {},
   "source": [
    "### Exercise 1. "
   ]
  },
  {
   "cell_type": "markdown",
   "metadata": {},
   "source": [
    "Do as described below:\n",
    "\n",
    "- Make a variable called strength, and set its initial value to 5.\n",
    "\n",
    "- Print a message reporting the player's strength.\n",
    "\n",
    "- Set up a while loop that runs until the player's strength increases to a value such as 10.\n",
    "\n",
    "- Inside the while loop, print a message that reports the player's current strength.\n",
    "\n",
    "- Inside the while loop, write a statement that increases the player's strength.\n",
    "\n",
    "- Outside the while loop, print a message reporting that the player has grown too strong, and that they have moved up to a new level of the game.\n",
    "\n",
    "Play around with different cutoff levels for the value of strength, and play around with different ways to increase the strength value within the while loop.\n"
   ]
  },
  {
   "cell_type": "code",
   "execution_count": 11,
   "metadata": {},
   "outputs": [
    {
     "name": "stdout",
     "output_type": "stream",
     "text": [
      "Your starting strength is 0\n",
      " \n",
      "Your current strength is 0\n",
      "Your strength has increased to 10\n",
      " \n",
      "Your current strength is 10\n",
      "Your strength has increased to 20\n",
      " \n",
      "Your current strength is 20\n",
      "Your strength has increased to 30\n",
      " \n",
      "Your current strength is 30\n",
      "Your strength has increased to 40\n",
      " \n",
      "Your current strength is 40\n",
      "Your strength has increased to 50\n",
      " \n",
      "Your current strength is 50\n",
      "Your strength has increased to 60\n",
      " \n",
      "Your current strength is 60\n",
      "Your strength has increased to 70\n",
      " \n",
      "Your current strength is 70\n",
      "Your strength has increased to 80\n",
      " \n",
      "Your current strength is 80\n",
      "Your strength has increased to 90\n",
      " \n",
      "Your current strength is 90\n",
      "Your strength has increased to 100\n",
      " \n",
      "You have grown too strong! You have moved up to level 2\n"
     ]
    }
   ],
   "source": [
    "strength = 0\n",
    "level = 1\n",
    "\n",
    "print(\"Your starting strength is\", strength)\n",
    "print(\" \")\n",
    "\n",
    "while strength < 100:\n",
    "    print(\"Your current strength is\", strength)\n",
    "    strength += 10\n",
    "    print(\"Your strength has increased to\", strength)\n",
    "    print(\" \")\n",
    "\n",
    "level += 1\n",
    "print(\"You have grown too strong! You have moved up to level\", level)"
   ]
  },
  {
   "cell_type": "markdown",
   "metadata": {},
   "source": [
    "### Exercise 2. "
   ]
  },
  {
   "cell_type": "markdown",
   "metadata": {},
   "source": [
    "To solve the following exercises it will be necessary to define a function for each section. You choose the name of those functions unless specified, but make sure you define a single parameter `whichever_list`, when calling the function it will correspond to the variable `info_list`."
   ]
  },
  {
   "cell_type": "code",
   "execution_count": 13,
   "metadata": {},
   "outputs": [],
   "source": [
    "# you can use this list or take yours from Practice 3\n",
    "info_list = [15, 'Recoletos', True, ['Recoletos', 15],  None, '8'] "
   ]
  },
  {
   "cell_type": "markdown",
   "metadata": {},
   "source": [
    "You have already read these questions below, but this time you are asked to solve it using `while` loop instead of `for`. \n",
    "\n",
    "   - Loop through `whichever_list` to print all the elements it contains. This function should return the list turned into a tuple. \n",
    "   - Loop through `whichever_list` to print all the elements it contains concatenated with the string` \"--> OK\" `. This function should return a message saying, `\"everything will be ok\"`. \n",
    "   - Loop through `whichever_list` to display all items it contains except the first one. This function should return the first element of the list. \n",
    "   - Loop through `whichever_list` to display all the items it contains except the last one. This function should return the last element of the list. "
   ]
  },
  {
   "cell_type": "code",
   "execution_count": 15,
   "metadata": {},
   "outputs": [
    {
     "name": "stdout",
     "output_type": "stream",
     "text": [
      "15\n",
      "Recoletos\n",
      "True\n",
      "['Recoletos', 15]\n",
      "None\n",
      "8\n"
     ]
    },
    {
     "data": {
      "text/plain": [
       "(15, 'Recoletos', True, ['Recoletos', 15], None, '8')"
      ]
     },
     "execution_count": 15,
     "metadata": {},
     "output_type": "execute_result"
    }
   ],
   "source": [
    "def print_all(whichever_list):\n",
    "    for i in whichever_list:\n",
    "        print(i)\n",
    "    \n",
    "    return tuple(whichever_list)\n",
    "\n",
    "print_all(info_list)"
   ]
  },
  {
   "cell_type": "code",
   "execution_count": 17,
   "metadata": {},
   "outputs": [
    {
     "name": "stdout",
     "output_type": "stream",
     "text": [
      "15 --> OK Recoletos --> OK True --> OK ['Recoletos', 15] --> OK None --> OK 8 --> OK \n",
      "everything will be ok\n"
     ]
    }
   ],
   "source": [
    "def print_as_string(whichever_list):\n",
    "    string = ''  \n",
    "    for i in whichever_list:\n",
    "        string += str(i) + \" --> OK \"\n",
    "    print(string)\n",
    "    return print(\"everything will be ok\")\n",
    "\n",
    "print_as_string(info_list)"
   ]
  },
  {
   "cell_type": "code",
   "execution_count": 22,
   "metadata": {},
   "outputs": [
    {
     "name": "stdout",
     "output_type": "stream",
     "text": [
      "Recoletos\n",
      "True\n",
      "['Recoletos', 15]\n",
      "None\n",
      "8\n"
     ]
    },
    {
     "data": {
      "text/plain": [
       "15"
      ]
     },
     "execution_count": 22,
     "metadata": {},
     "output_type": "execute_result"
    }
   ],
   "source": [
    "def first_element(whichever_list):\n",
    "    for i in whichever_list:\n",
    "        if whichever_list.index(i) == 0:\n",
    "            continue\n",
    "        else:\n",
    "            print(i)  \n",
    "    return whichever_list[0]\n",
    "\n",
    "first_element(info_list)"
   ]
  },
  {
   "cell_type": "code",
   "execution_count": 23,
   "metadata": {},
   "outputs": [
    {
     "name": "stdout",
     "output_type": "stream",
     "text": [
      "Recoletos\n",
      "True\n",
      "['Recoletos', 15]\n",
      "None\n",
      "8\n"
     ]
    },
    {
     "data": {
      "text/plain": [
       "15"
      ]
     },
     "execution_count": 23,
     "metadata": {},
     "output_type": "execute_result"
    }
   ],
   "source": [
    "def last_element(whichever_list):\n",
    "    for i in whichever_list:\n",
    "        if whichever_list.index(i) == -1:\n",
    "            continue\n",
    "        else:\n",
    "            print(i)  \n",
    "    return whichever_list[-1]\n",
    "\n",
    "first_element(info_list)"
   ]
  },
  {
   "cell_type": "markdown",
   "metadata": {},
   "source": [
    "### Exercise 3. "
   ]
  },
  {
   "cell_type": "markdown",
   "metadata": {},
   "source": [
    "1. Define a function that performs the [Fibonacci series](https://quantdare.com/numeros-de-fibonacci/#:~:text=En%20matem%C3%A1ticas%2C%20la%20sucesi%C3%B3n%20o,nombre%20de%20n%C3%BAmero%20de%20Fibonacci.) with a `while`."
   ]
  },
  {
   "cell_type": "code",
   "execution_count": 27,
   "metadata": {},
   "outputs": [],
   "source": [
    "def fibo():\n",
    "    while True:\n",
    "        x = 2\n",
    "            return x + fibonacci(x-1)"
   ]
  },
  {
   "cell_type": "code",
   "execution_count": 28,
   "metadata": {},
   "outputs": [
    {
     "data": {
      "text/plain": [
       "1"
      ]
     },
     "execution_count": 28,
     "metadata": {},
     "output_type": "execute_result"
    }
   ],
   "source": [
    "fibo(900)"
   ]
  },
  {
   "cell_type": "markdown",
   "metadata": {},
   "source": [
    "### Exercise 4."
   ]
  },
  {
   "cell_type": "markdown",
   "metadata": {},
   "source": [
    "To solve the following exercises it will be necessary to define a function for each section. You choose the name of those functions unless specified, but make sure you define a single parameter `whichever_list`, when calling the function it will correspond to the variable `info_list`."
   ]
  },
  {
   "cell_type": "code",
   "execution_count": 1,
   "metadata": {},
   "outputs": [],
   "source": [
    "# you can use this list or take yours from Practice 3\n",
    "info_list = [15, 'Recoletos', True, ['Recoletos', 15],  None, '8'] "
   ]
  },
  {
   "cell_type": "markdown",
   "metadata": {},
   "source": [
    "1. Define a function that saves the value of `\"nothing\"` in a variable and print it. Also, concatenate its value with the number of The Bridge and display it on the screen. \n",
    "\n",
    "   Also, display a boolean **True** if the length of the concatenated word is 6. If not, it will be **False**. The function must return the value **True** or **False** and the name of this function will be `f_s`."
   ]
  },
  {
   "cell_type": "code",
   "execution_count": null,
   "metadata": {},
   "outputs": [],
   "source": []
  },
  {
   "cell_type": "markdown",
   "metadata": {},
   "source": [
    "### Bonus Track."
   ]
  },
  {
   "cell_type": "markdown",
   "metadata": {},
   "source": [
    "2. Create a list `list_aux` with 7 elements, whichever you want. Next, create a function `function_use_f_s` which receives as parameters a function `some_function` and whichever list `whichever_list`. If the value of `some_function` is **True**, then delete an item from `whichever_list`. Repeat the process until `whichever_list` has no elements. The argument for `whichever_list` must be `list_aux` and for `some_function` it will be the function `f_s` from the previous point."
   ]
  },
  {
   "cell_type": "code",
   "execution_count": null,
   "metadata": {},
   "outputs": [],
   "source": []
  },
  {
   "cell_type": "markdown",
   "metadata": {},
   "source": [
    "3. Define a function `even_numbers` that has an input parameter `arg1`, type integer. The function must return a list of numbers of size `arg1`, all of them being even numbers. \n",
    "\n",
    "   Don't use the function `print()` inside the function, but print what `even_numbers` returns when calling it with the argument `10`, just to check your function works.\n",
    "   \n",
    "```python\n",
    "print(even_numbers(10))\n",
    "```"
   ]
  },
  {
   "cell_type": "code",
   "execution_count": null,
   "metadata": {},
   "outputs": [],
   "source": []
  },
  {
   "cell_type": "markdown",
   "metadata": {},
   "source": [
    "4. Create a function that has an input variable `arg1`, which will be the list of even numbers from the previous section, and that removes elements from the list, one by one, if `arg1` has a size divisible by 2 and, if not, it adds just once, the value of the function `f_s` that should be a boolean (`True` or `False`).\n"
   ]
  },
  {
   "cell_type": "code",
   "execution_count": null,
   "metadata": {},
   "outputs": [],
   "source": []
  },
  {
   "cell_type": "markdown",
   "metadata": {},
   "source": [
    "!['nicetry'](https://i.pinimg.com/originals/36/ab/81/36ab81cd8d63cf7c4a08f39403698c77.jpg)"
   ]
  },
  {
   "cell_type": "code",
   "execution_count": null,
   "metadata": {},
   "outputs": [],
   "source": []
  }
 ],
 "metadata": {
  "kernelspec": {
   "display_name": "Python 3 (ipykernel)",
   "language": "python",
   "name": "python3"
  },
  "language_info": {
   "codemirror_mode": {
    "name": "ipython",
    "version": 3
   },
   "file_extension": ".py",
   "mimetype": "text/x-python",
   "name": "python",
   "nbconvert_exporter": "python",
   "pygments_lexer": "ipython3",
   "version": "3.10.4"
  }
 },
 "nbformat": 4,
 "nbformat_minor": 4
}
