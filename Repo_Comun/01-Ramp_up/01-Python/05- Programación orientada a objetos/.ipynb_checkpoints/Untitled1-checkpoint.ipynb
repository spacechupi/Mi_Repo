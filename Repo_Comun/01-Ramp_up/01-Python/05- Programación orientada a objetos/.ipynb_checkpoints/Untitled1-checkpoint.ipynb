{
 "cells": [
  {
   "cell_type": "code",
   "execution_count": 29,
   "id": "f6fb0df4",
   "metadata": {},
   "outputs": [],
   "source": [
    "import random"
   ]
  },
  {
   "cell_type": "code",
   "execution_count": 30,
   "id": "6cf0d6f2",
   "metadata": {},
   "outputs": [],
   "source": [
    "eu_mom = random.randint(0, 5)\n",
    "\n",
    "eu_dad = random.randint(0, 5)\n",
    "\n",
    "if eu_mom < eu_dad:\n",
    "    eu = random.choice(range(eu_mom, eu_dad))\n",
    "\n",
    "if eu_mom == eu_dad:\n",
    "    eu = eu_mom\n",
    "    \n",
    "if eu_mom > eu_dad:\n",
    "    eu = random.choice(range(eu_dad, eu_mom))"
   ]
  },
  {
   "cell_type": "code",
   "execution_count": 31,
   "id": "bb3fca7f",
   "metadata": {},
   "outputs": [],
   "source": [
    "pheo_mom = random.randint(0, 5)\n",
    "\n",
    "pheo_dad = random.randint(0, 5)\n",
    "\n",
    "if pheo_mom < pheo_dad:\n",
    "    pheo = random.choice(range(pheo_mom, pheo_dad))\n",
    "\n",
    "if pheo_mom == pheo_dad:\n",
    "    pheo = pheo_mom\n",
    "    \n",
    "if pheo_mom > pheo_dad:\n",
    "    pheo = random.choice(range(pheo_dad, pheo_mom))"
   ]
  },
  {
   "cell_type": "code",
   "execution_count": 32,
   "id": "b340dd75",
   "metadata": {},
   "outputs": [],
   "source": [
    "if eu_mom == 0:\n",
    "    if pheo_mom == 0:\n",
    "        eye_color_mom = \"Light Grey\"\n",
    "    if pheo_mom == 1 or pheo_mom == 2:\n",
    "        eye_color_mom = \"Light Blue\"\n",
    "    if pheo_mom == 3 or pheo_mom == 4:\n",
    "        eye_color_mom = \"Blue Green\"\n",
    "    if pheo_mom == 5:\n",
    "        eye_color_mom = \"Light Green\"\n",
    "    \n",
    "        \n",
    "if eu_mom == 1:\n",
    "    if pheo_mom == 0:\n",
    "        eye_color_mom = \"Dark Grey\"\n",
    "    if pheo_mom == 1 or pheo_mom == 2:\n",
    "        eye_color_mom = \"Dark Blue\"\n",
    "    if pheo_mom == 3:\n",
    "        eye_color_mom = \"Blue Hazel\"\n",
    "    if pheo_mom == 4:\n",
    "        eye_color_mom = \"Green Hazel\"\n",
    "    if pheo_mom == 5:\n",
    "        eye_color_mom = \"Dark Green\"\n",
    "        \n",
    "if eu_mom == 2:\n",
    "    if pheo_mom == 0 or pheo_mom == 1 or pheo_mom == 2:\n",
    "        eye_color_mom = \"Light Brown\"\n",
    "    if pheo_mom == 3 or pheo_mom == 4:\n",
    "        eye_color_mom = \"Light Hazel\"\n",
    "    if pheo_mom == 5:\n",
    "        eye_color_mom = \"Bright Amber\"\n",
    "        \n",
    "if eu_mom == 3:\n",
    "    if pheo_mom == 0 or pheo_mom == 1 or pheo_mom == 2:\n",
    "        eye_color_mom = \"Medium Brown\"\n",
    "    if pheo_mom == 3 or pheo_mom == 4:\n",
    "        eye_color_mom = \"Dark Hazel\"\n",
    "    if pheo_mom == 5:\n",
    "        eye_color_mom = \"Dark Amber\"\n",
    "\n",
    "if eu_mom == 4:\n",
    "    eye_color_mom = \"Dark Brown\"\n",
    "    \n",
    "if eu_mom == 5:\n",
    "    eye_color_mom = \"Black\""
   ]
  },
  {
   "cell_type": "code",
   "execution_count": 33,
   "id": "e2183644",
   "metadata": {},
   "outputs": [],
   "source": [
    "if eu_dad == 0:\n",
    "    if pheo_dad == 0:\n",
    "        eye_color_dad = \"Light Grey\"\n",
    "    if pheo_dad == 1 or pheo_dad == 2:\n",
    "        eye_color_dad = \"Light Blue\"\n",
    "    if pheo_dad == 3 or pheo_dad == 4:\n",
    "        eye_color_dad = \"Blue Green\"\n",
    "    if pheo_dad == 5:\n",
    "        eye_color_dad = \"Light Green\"\n",
    "    \n",
    "        \n",
    "if eu_dad == 1:\n",
    "    if pheo_dad == 0:\n",
    "        eye_color_dad = \"Dark Grey\"\n",
    "    if pheo_dad == 1 or pheo_dad == 2:\n",
    "        eye_color_dad = \"Dark Blue\"\n",
    "    if pheo_dad == 3:\n",
    "        eye_color_dad = \"Blue Hazel\"\n",
    "    if pheo_dad == 4:\n",
    "        eye_color_dad = \"Green Hazel\"\n",
    "    if pheo_dad == 5:\n",
    "        eye_color_dad = \"Dark Green\"\n",
    "        \n",
    "if eu_dad == 2:\n",
    "    if pheo_dad == 0 or pheo_dad == 1 or pheo_dad == 2:\n",
    "        eye_color_dad = \"Light Brown\"\n",
    "    if pheo_dad == 3 or pheo_dad == 4:\n",
    "        eye_color_dad = \"Light Hazel\"\n",
    "    if pheo_dad == 5:\n",
    "        eye_color_dad = \"Bright Amber\"\n",
    "        \n",
    "if eu_dad == 3:\n",
    "    if pheo_dad == 0 or pheo_dad == 1 or pheo_dad == 2:\n",
    "        eye_color_dad = \"Medium Brown\"\n",
    "    if pheo_dad == 3 or pheo_dad == 4:\n",
    "        eye_color_dad = \"Dark Hazel\"\n",
    "    if pheo_dad == 5:\n",
    "        eye_color_dad = \"Dark Amber\"\n",
    "\n",
    "if eu_dad == 4:\n",
    "    eye_color_dad = \"Dark Brown\"\n",
    "    \n",
    "if eu_dad == 5:\n",
    "    eye_color_dad = \"Black\""
   ]
  },
  {
   "cell_type": "code",
   "execution_count": 34,
   "id": "fae63c66",
   "metadata": {},
   "outputs": [],
   "source": [
    "if eu == 0:\n",
    "    if pheo == 0:\n",
    "        eye_color = \"Light Grey\"\n",
    "    if pheo == 1 or pheo == 2:\n",
    "        eye_color = \"Light Blue\"\n",
    "    if pheo == 3 or pheo == 4:\n",
    "        eye_color = \"Blue Green\"\n",
    "    if pheo == 5:\n",
    "        eye_color = \"Light Green\"\n",
    "    \n",
    "        \n",
    "if eu == 1:\n",
    "    if pheo == 0:\n",
    "        eye_color = \"Dark Grey\"\n",
    "    if pheo == 1 or pheo == 2:\n",
    "        eye_color = \"Dark Blue\"\n",
    "    if pheo == 3:\n",
    "        eye_color = \"Blue Hazel\"\n",
    "    if pheo == 4:\n",
    "        eye_color = \"Green Hazel\"\n",
    "    if pheo == 5:\n",
    "        eye_color = \"Dark Green\"\n",
    "        \n",
    "if eu == 2:\n",
    "    if pheo == 0 or pheo == 1 or pheo == 2:\n",
    "        eye_color = \"Light Brown\"\n",
    "    if pheo == 3 or pheo == 4:\n",
    "        eye_color = \"Light Hazel\"\n",
    "    if pheo == 5:\n",
    "        eye_color = \"Bright Amber\"\n",
    "        \n",
    "if eu == 3:\n",
    "    if pheo == 0 or pheo == 1 or pheo == 2:\n",
    "        eye_color = \"Medium Brown\"\n",
    "    if pheo == 3 or pheo == 4:\n",
    "        eye_color = \"Dark Hazel\"\n",
    "    if pheo == 5:\n",
    "        eye_color = \"Dark Amber\"\n",
    "\n",
    "if eu == 4:\n",
    "    eye_color = \"Dark Brown\"\n",
    "    \n",
    "if eu == 5:\n",
    "    eye_color = \"Black\""
   ]
  },
  {
   "cell_type": "code",
   "execution_count": 35,
   "id": "6b9338cb",
   "metadata": {},
   "outputs": [
    {
     "name": "stdout",
     "output_type": "stream",
     "text": [
      "eu_mom: 4 , pheo_mom: 1\n",
      "eu_dad: 0 , pheo_dad: 1\n",
      "eu: 0 , pheo: 1\n"
     ]
    }
   ],
   "source": [
    "print(\"eu_mom:\", eu_mom, \", pheo_mom:\", pheo_mom)\n",
    "print(\"eu_dad:\", eu_dad, \", pheo_dad:\", pheo_dad)\n",
    "print(\"eu:\", eu, \", pheo:\", pheo)"
   ]
  },
  {
   "cell_type": "code",
   "execution_count": 36,
   "id": "91923f1a",
   "metadata": {},
   "outputs": [
    {
     "name": "stdout",
     "output_type": "stream",
     "text": [
      "Mom's eye color: Dark Brown\n",
      "Dad's eye color: Light Blue\n",
      "Eye color: Light Blue\n"
     ]
    }
   ],
   "source": [
    "print(\"Mom's eye color:\", eye_color_mom)\n",
    "print(\"Dad's eye color:\", eye_color_dad)\n",
    "print(\"Eye color:\", eye_color)"
   ]
  }
 ],
 "metadata": {
  "kernelspec": {
   "display_name": "Python 3 (ipykernel)",
   "language": "python",
   "name": "python3"
  },
  "language_info": {
   "codemirror_mode": {
    "name": "ipython",
    "version": 3
   },
   "file_extension": ".py",
   "mimetype": "text/x-python",
   "name": "python",
   "nbconvert_exporter": "python",
   "pygments_lexer": "ipython3",
   "version": "3.10.4"
  }
 },
 "nbformat": 4,
 "nbformat_minor": 5
}
