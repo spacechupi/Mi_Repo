{
 "cells": [
  {
   "cell_type": "markdown",
   "metadata": {},
   "source": [
    "# Ejercicios Clases y Objetos"
   ]
  },
  {
   "cell_type": "markdown",
   "metadata": {},
   "source": [
    "## Ejercicio 1\n",
    "Somos una empresa que tiene varias tiendas de electrodomesticos. Necesitamos un programa para manejar las tiendas, ver las ventas que han tenido, cuántos empleados hay, etc... Para ello vamos a modelizar la tienda en una clase, que tendrá las siguientes características:\n",
    "* Nombre clase: \"Tienda\"\n",
    "* Atributos comunes:\n",
    "    * Tipo: \"Electrodomésticos\"\n",
    "    * Abierta: True\n",
    "* Atributos propios de cada tienda:\n",
    "    * Nombre - String\n",
    "    * Dirección - String\n",
    "    * Número de empleados - int\n",
    "    * Ventas ultimos 3 meses - Lista de 3 numeros\n",
    "* Método para calcular las ventas de todos los meses, que devuelva un numero con todas las ventas.\n",
    "* Método que calcula la media de ventas de los ultimos meses, por empleado\n",
    "* Método que devuelve en un string el nombre de la tienda, junto con su dirección.\n",
    "* Método que obtiene las ventas del último mes.\n",
    "* Método para dar una proyección de las ventas en caso de haber invertido X dinero en marketing en esa tienda. Siendo X el parámetro de entrada. Si X es menor de 1000, las ventas de los ultimos 3 meses hubiesen sido de (1.2 x ventas), si es mayor o igual de 1000, las ventas hubiesen sido de (1.5 x venta). El método reescribe el atributo de ventas en los últimos 3 meses, y además devuelve las ventas con el aumento.\n",
    "\n",
    "Se pide:\n",
    "1. Implementar la clase \"Tienda\"\n",
    "2. Crear tres tiendas con datos inventados\n",
    "3. Comprueba en al menos una de ellas, todo lo implementado en la clase tienda (sus atributos, media de ventas, ventas/empleado...)\n",
    "3. Calcular las ventas del último mes de todas las tiendas. Para ello usa el bucle `for`\n",
    "4. Imprime por pantalla los nombres de las tiendas cuya dirección lleve el string \"Avenida\"\n",
    "5. Seguro que ya has hecho este apartado... Documenta la clase :)"
   ]
  },
  {
   "cell_type": "code",
   "execution_count": 80,
   "metadata": {},
   "outputs": [],
   "source": [
    "# 1. y 6. Implementar y documentar la clase tienda.\n",
    "\n",
    "class Tienda:\n",
    "    \"\"\"\n",
    "    Clase tienda utilizada en este ejercicio.\n",
    "    \n",
    "    Atributos:\n",
    "        tipo = \"Electrodomésticos\" -> string\n",
    "        abierta = True -> bool\n",
    "\n",
    "    \"\"\"\n",
    "    \n",
    "    tipo = \"Electrodomésticos\"\n",
    "    abierta = True\n",
    "    \n",
    "    def __init__(self, nombre, direccion, num_empleados, ventas_3mes):\n",
    "        \"\"\"\n",
    "        Parámetros requeridos para la inicialización.\n",
    "        \n",
    "        Parámetros:\n",
    "        nombre: nombre de la tienda -> string\n",
    "        direccion: dirección de la tienda -> string\n",
    "        num_empleados: número de empleados -> int\n",
    "        ventas_3mes: ventas de los últimos 3 meses -> list\n",
    "         \"\"\"\n",
    "        self.nombre = nombre\n",
    "        self.direccion = direccion\n",
    "        self.empleados = num_empleados\n",
    "        self.ventas = ventas_3mes\n",
    "    \n",
    "    def total_ventas(self):\n",
    "        \"\"\"\n",
    "        Método para calcular las ventas de todos los meses.\n",
    "        Devuelve un numero con todas las ventas.\n",
    "        \n",
    "        Output:\n",
    "            total de ventas -> float/int\n",
    "        \"\"\"\n",
    "        return sum(self.ventas)\n",
    "    \n",
    "    def media_ventas(self):\n",
    "        \"\"\"\n",
    "        Método que calcula la media de ventas de los ultimos meses,\n",
    "        por empleado\n",
    "        \n",
    "        Output:\n",
    "            media de ventas -> float/int\n",
    "        \"\"\"\n",
    "        return round((sum(self.ventas) / self.empleados), 2)\n",
    "    \n",
    "    def nombre_direccion(self): \n",
    "        \"\"\"\n",
    "        Método que devuelve en un string el nombre de la tienda,\n",
    "        junto con su dirección.\n",
    "        \n",
    "        Output:\n",
    "            nombre y dirección -> string\n",
    "        \"\"\"\n",
    "        return self.nombre + \", \" + self.direccion\n",
    "    \n",
    "    def ventas_ultimo_mes(self):\n",
    "        \"\"\"\n",
    "        Método que obtiene las ventas del último mes.\n",
    "        \n",
    "        Output:\n",
    "            ventas del último mes -> float/int\n",
    "        \"\"\"\n",
    "        return self.ventas[-1]\n",
    "    \n",
    "    def proyeccion_ventas(self, mkt):\n",
    "        \"\"\"\n",
    "        Método para dar una proyección de las ventas \n",
    "        en caso de haber invertido X dinero en marketing en esa tienda.\n",
    "        Siendo X el parámetro de entrada. \n",
    "        \n",
    "        Si X es menor de 1000, \n",
    "        las ventas de los ultimos 3 meses hubiesen sido de (1.2 x ventas),\n",
    "        \n",
    "        si es mayor o igual de 1000, \n",
    "        las ventas hubiesen sido de (1.5 x venta). \n",
    "        \n",
    "        El método reescribe el atributo de ventas en los últimos 3 meses, \n",
    "        y además devuelve las ventas con el aumento.\n",
    "        \n",
    "        Input:\n",
    "            mkt: cantidad invertida en mkt -> string\n",
    "        \n",
    "        Output:\n",
    "            lista con el resultado de aplicar el algoritmo -\n",
    "        \"\"\"\n",
    "        ventas_proy = []\n",
    "        \n",
    "        if mkt < 1000:\n",
    "            for ele in self.ventas:\n",
    "                ventas_proy.append(ele * 1.2)\n",
    "        \n",
    "        else: # if x >= 1000\n",
    "            for ele in self.ventas:\n",
    "                ventas_proy.append(ele * 1.5)\n",
    "                \n",
    "        self.ventas3meses = ventas_proy\n",
    "        \n",
    "        return sum(ventas_proy)"
   ]
  },
  {
   "cell_type": "code",
   "execution_count": 81,
   "metadata": {},
   "outputs": [],
   "source": [
    "#2. Crear tres tiendas.\n",
    "mediamarkt = Tienda(\"Media Markt\", \"Pº de la Castellana, 200\", 10, [15876, 23765, 31868])\n",
    "\n",
    "paco = Tienda(\"Electrodomésticos Paco\", \"Calle de Villamanín, 25\", 3, [1234, 2124, 987])\n",
    "\n",
    "worten = Tienda(\"Worten\", \"Avenida Recoletos, 32\", 11, [45651, 56781, 42341])"
   ]
  },
  {
   "cell_type": "code",
   "execution_count": 82,
   "metadata": {},
   "outputs": [
    {
     "name": "stdout",
     "output_type": "stream",
     "text": [
      "Media Markt, Pº de la Castellana, 200\n",
      "Total de ventas en los últimos 3 meses: 71509\n",
      "Media de ventas por empleado en los últimos 3 meses: 7150.9\n",
      "Ventas del último mes: 31868\n",
      "Proyección de ventas en los próximos 3 meses: 107263.5\n"
     ]
    }
   ],
   "source": [
    "#3. Comprobar los métodos implementados.\n",
    "print(mediamarkt.nombre_direccion())\n",
    "\n",
    "print(\"Total de ventas en los últimos 3 meses: \" + str(mediamarkt.total_ventas()))\n",
    "\n",
    "print(\"Media de ventas por empleado en los últimos 3 meses: \" + str(mediamarkt.media_ventas()))\n",
    "\n",
    "print(\"Ventas del último mes: \" + str(mediamarkt.ventas_ultimo_mes()))\n",
    "\n",
    "print(\"Proyección de ventas en los próximos 3 meses: \" + str(mediamarkt.proyeccion_ventas(1000)))"
   ]
  },
  {
   "cell_type": "code",
   "execution_count": 76,
   "metadata": {},
   "outputs": [
    {
     "data": {
      "text/plain": [
       "75196"
      ]
     },
     "execution_count": 76,
     "metadata": {},
     "output_type": "execute_result"
    }
   ],
   "source": [
    "# 4. Calcular las ventas del último mes de todas las tiendas. Para ello usa el bucle for\n",
    "\n",
    "tot_tiendas = [mediamarkt, paco, worten]\n",
    "tot_ventas_global = 0\n",
    "\n",
    "for tienda in tot_tiendas:\n",
    "    tot_ventas_global += tienda.ventas_ultimo_mes()\n",
    "\n",
    "tot_ventas_global"
   ]
  },
  {
   "cell_type": "code",
   "execution_count": 79,
   "metadata": {},
   "outputs": [
    {
     "name": "stdout",
     "output_type": "stream",
     "text": [
      "Avenida Recoletos, 32\n"
     ]
    }
   ],
   "source": [
    "# 5. Imprime por pantalla los nombres de las tiendas cuya dirección lleve el string \"Avenida\"\n",
    "\n",
    "for tienda in tot_tiendas:\n",
    "    if \"avenida\" in tienda.direccion.lower():\n",
    "        print(tienda.direccion)"
   ]
  },
  {
   "cell_type": "markdown",
   "metadata": {},
   "source": [
    "## Ejercicio 2\n",
    "En este ejercicio vamos a implementar una clase *Perro* en Python. La clase tiene las siguientes características:\n",
    "* Cosas que sabemos seguro que tiene un perro\n",
    "    * Tiene 4 patas\n",
    "    * 2 orejas\n",
    "    * 2 ojos\n",
    "    * Una velocidad de 0. Por defecto, el perro está parado\n",
    "* Cuando se inicialice:\n",
    "    * El perro será de una determinada raza\n",
    "    * Por defecto tendrá pelo \"Marrón\", a no ser que se diga lo contrario.\n",
    "    * Por defecto no tendrá dueño, a no ser que se diga lo contrario.\n",
    "    \n",
    "* Dispondrá también de un método llamado andar, que tiene un argumento de entrada (aumento_velocidad). Este valor se le sumará a la velocidad que ya llevaba el perro.\n",
    "* Necesita otro método (parar), donde pondremos la velocidad a 0.\n",
    "* Otro método llamado \"ladrar\", que tendrá un argumento de entrada, y la salida será el siguiente string: \"GUAU!\" + el argumento de entrada.\n",
    "\n",
    "\n",
    "Se pide:\n",
    "* Implementa la clase *Perro*\n",
    "* Crea un objeto de tipo *Perro*, sin dueño\n",
    "* Comprueba que están bien todos sus atributos\n",
    "* Prueba que ande, y comprueba su velocidad\n",
    "* Páralo\n",
    "* Documenta la clase *Perro*"
   ]
  },
  {
   "cell_type": "code",
   "execution_count": 98,
   "metadata": {},
   "outputs": [],
   "source": [
    "# Implementar clase:\n",
    "\n",
    "class Perro:\n",
    "    patas = 4\n",
    "    orejas = 2\n",
    "    ojos = 2\n",
    "    velocidad = 0\n",
    "    \n",
    "    def __init__(self, raza, \\\n",
    "                 pelo = \"Marrón\", \\\n",
    "                 dueno = None):\n",
    "        self.raza = raza\n",
    "        self.pelo = pelo\n",
    "        self.dueno = dueno\n",
    "    \n",
    "    def andar(self, aumento_velocidad):\n",
    "        self.velocidad += aumento_velocidad\n",
    "        \n",
    "    def parar(self):\n",
    "        self.velocidad = 0\n",
    "        \n",
    "    def ladrar(self, mensaje):\n",
    "        return \"GUAU!,\" + mensaje"
   ]
  },
  {
   "cell_type": "code",
   "execution_count": 85,
   "metadata": {},
   "outputs": [],
   "source": [
    "# Instanciar Perro:\n",
    "\n",
    "sanber = Perro(\"San Bernardo\")"
   ]
  },
  {
   "cell_type": "code",
   "execution_count": 87,
   "metadata": {},
   "outputs": [
    {
     "name": "stdout",
     "output_type": "stream",
     "text": [
      "San Bernardo\n",
      "Marrón\n",
      "None\n",
      "0\n"
     ]
    }
   ],
   "source": [
    "# Comprobar atributos:\n",
    "\n",
    "print(sanber.raza)\n",
    "print(sanber.pelo)\n",
    "print(sanber.dueno)\n",
    "print(sanber.velocidad)"
   ]
  },
  {
   "cell_type": "code",
   "execution_count": 88,
   "metadata": {},
   "outputs": [
    {
     "name": "stdout",
     "output_type": "stream",
     "text": [
      "2\n"
     ]
    }
   ],
   "source": [
    "# Andar:\n",
    "\n",
    "sanber.andar(2)\n",
    "print(sanber.velocidad)"
   ]
  },
  {
   "cell_type": "code",
   "execution_count": 90,
   "metadata": {},
   "outputs": [
    {
     "name": "stdout",
     "output_type": "stream",
     "text": [
      "0\n"
     ]
    }
   ],
   "source": [
    "# Parar:\n",
    "\n",
    "sanber.parar()\n",
    "print(sanber.velocidad)"
   ]
  }
 ],
 "metadata": {
  "kernelspec": {
   "display_name": "Python 3 (ipykernel)",
   "language": "python",
   "name": "python3"
  },
  "language_info": {
   "codemirror_mode": {
    "name": "ipython",
    "version": 3
   },
   "file_extension": ".py",
   "mimetype": "text/x-python",
   "name": "python",
   "nbconvert_exporter": "python",
   "pygments_lexer": "ipython3",
   "version": "3.10.4"
  }
 },
 "nbformat": 4,
 "nbformat_minor": 4
}
