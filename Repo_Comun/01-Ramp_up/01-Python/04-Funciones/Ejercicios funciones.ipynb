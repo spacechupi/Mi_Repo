{
 "cells": [
  {
   "cell_type": "markdown",
   "metadata": {},
   "source": [
    "# Ejercicios funciones\n",
    "## Ejercicio 1\n",
    "Escribe una función que convierta números del 1 al 7 en nombres de los dias de la semana. La función constará de un único argumento numérico y una salida de tipo string"
   ]
  },
  {
   "cell_type": "code",
   "execution_count": 4,
   "metadata": {},
   "outputs": [
    {
     "data": {
      "text/plain": [
       "'Error'"
      ]
     },
     "execution_count": 4,
     "metadata": {},
     "output_type": "execute_result"
    }
   ],
   "source": [
    "def weekdays(number):\n",
    "    if type(number) != float or 0 > number > 7: #Esto podria ser un else al final del todo\n",
    "        return 'Error' \n",
    "    if number == 1:\n",
    "        return 'Lunes'\n",
    "    if number == 2:\n",
    "        return 'Martes'\n",
    "    if number == 3:\n",
    "        return 'Miercoles'\n",
    "    if number == 4:\n",
    "        return 'Jueves'\n",
    "    if number == 5:\n",
    "        return 'Viernes'\n",
    "    if number == 6:\n",
    "        return 'Sabado'\n",
    "    if number == 7:\n",
    "        return 'Domingo'\n",
    "\n",
    "weekdays(10)"
   ]
  },
  {
   "cell_type": "markdown",
   "metadata": {},
   "source": [
    "## Ejercicio 2\n",
    "Implementa una función que imprima una pirámide como la siguiente\n",
    "\n",
    "5 4 3 2 1  \n",
    "4 3 2 1  \n",
    "3 2 1  \n",
    "2 1  \n",
    "1  \n",
    "\n",
    "de altura variable según el argumento de entrada que indiquemos (en el ejemplo la altura sería 5)"
   ]
  },
  {
   "cell_type": "code",
   "execution_count": 16,
   "metadata": {},
   "outputs": [],
   "source": [
    "def pyramid(height):\n",
    "    for i in range(height, 0, -1):\n",
    "        for j in range(i, 0, -1):\n",
    "            print(j, end=' ')\n",
    "        print()"
   ]
  },
  {
   "cell_type": "code",
   "execution_count": 17,
   "metadata": {
    "scrolled": true
   },
   "outputs": [
    {
     "name": "stdout",
     "output_type": "stream",
     "text": [
      "5 4 3 2 1 \n",
      "4 3 2 1 \n",
      "3 2 1 \n",
      "2 1 \n",
      "1 \n"
     ]
    }
   ],
   "source": [
    "pyramid(5)"
   ]
  },
  {
   "cell_type": "markdown",
   "metadata": {},
   "source": [
    "## Ejercicio 3\n",
    "Escibe una función que compare dos números. La función tiene dos argumentos y hay tres salidas posibles: que sean iguales, que el primero se  mayor que el segundo, o que el segundo sea mayor que el primero"
   ]
  },
  {
   "cell_type": "code",
   "execution_count": 21,
   "metadata": {},
   "outputs": [
    {
     "name": "stdout",
     "output_type": "stream",
     "text": [
      "1 es menor que 3\n"
     ]
    }
   ],
   "source": [
    "def compare(x,y):\n",
    "    if x > y:\n",
    "        return print(x, 'es mayor que', y)\n",
    "    if x < y:\n",
    "        return print(x, 'es menor que', y)\n",
    "    if x == y:\n",
    "        return print(x, 'es igual a', y)\n",
    "    \n",
    "compare(1,3)"
   ]
  },
  {
   "cell_type": "markdown",
   "metadata": {},
   "source": [
    "## Ejercicio 4\n",
    "Escribe una función que sea un contador de letras. En el primer argumento tienes que introducir un texto, y el segundo que sea la letra a contar. La función tiene que devolver un entero con el número de veces que aparece esa letra, tanto mayuscula, como minúscula"
   ]
  },
  {
   "cell_type": "code",
   "execution_count": 25,
   "metadata": {},
   "outputs": [],
   "source": [
    "def count(txt, char):\n",
    "    counter = 0\n",
    "    for i in txt.lower():\n",
    "        if i == char:\n",
    "            counter += 1\n",
    "    return counter"
   ]
  },
  {
   "cell_type": "code",
   "execution_count": 26,
   "metadata": {},
   "outputs": [
    {
     "data": {
      "text/plain": [
       "3"
      ]
     },
     "execution_count": 26,
     "metadata": {},
     "output_type": "execute_result"
    }
   ],
   "source": [
    "count(\"En un lugar de La Mancha, de cuyo nombre no quiero acordarme\", 'm')"
   ]
  },
  {
   "cell_type": "markdown",
   "metadata": {},
   "source": [
    "## Ejercicio 5\n",
    "Escribe una función que tenga un único argumento, un string. La salida de la función tiene que ser un diccionario con el conteo de todas las letras de ese string."
   ]
  },
  {
   "cell_type": "code",
   "execution_count": 39,
   "metadata": {},
   "outputs": [],
   "source": [
    "def count_all(txt):\n",
    "    txt = txt.lower().replace('.', ' ').replace(',', ' ')\n",
    "    counter = {}\n",
    "    \n",
    "    for char in txt:\n",
    "        counter[char] = counter.get(char, 0) + 1\n",
    "    \n",
    "    return counter"
   ]
  },
  {
   "cell_type": "code",
   "execution_count": 40,
   "metadata": {
    "scrolled": true
   },
   "outputs": [
    {
     "data": {
      "text/plain": [
       "{'s': 2,\n",
       " 'e': 8,\n",
       " 'ñ': 2,\n",
       " 'o': 21,\n",
       " 'r': 6,\n",
       " ' ': 18,\n",
       " 'c': 14,\n",
       " 'ó': 1,\n",
       " 'm': 5,\n",
       " 'p': 6,\n",
       " 'u': 3,\n",
       " 'n': 2,\n",
       " 'y': 1,\n",
       " 'q': 2,\n",
       " 'l': 1,\n",
       " 'a': 1}"
      ]
     },
     "execution_count": 40,
     "metadata": {},
     "output_type": "execute_result"
    }
   ],
   "source": [
    "count_all('Señor cómpreme un coco. Yo no compro coco porque el señor que poco coco compra poco coco come')"
   ]
  },
  {
   "cell_type": "markdown",
   "metadata": {},
   "source": [
    "## Ejercicio 6\n",
    "Escribir una función que añada o elimine elementos en una lista. La función necesita los siguientes argumentos:\n",
    "* lista: la lista donde se añadirán o eliminarán los elementos\n",
    "* comando: \"add\" o \"remove\"\n",
    "* elemento: Por defecto es None."
   ]
  },
  {
   "cell_type": "code",
   "execution_count": 76,
   "metadata": {},
   "outputs": [],
   "source": [
    "def add_to_list(command, target_list, element = None):\n",
    "    if target_list == None:\n",
    "        target_list = []\n",
    "        if command == 'add':\n",
    "            target_list.append(element)\n",
    "        if command == 'remove':\n",
    "            target_list.remove(element)\n",
    "        return target_list\n",
    "    else:\n",
    "        if command == 'add':\n",
    "            target_list.append(element)\n",
    "        if command == 'remove':\n",
    "            target_list.remove(element)\n",
    "        return target_list"
   ]
  },
  {
   "cell_type": "code",
   "execution_count": 80,
   "metadata": {},
   "outputs": [
    {
     "data": {
      "text/plain": [
       "['Chevrolet', 'Honda']"
      ]
     },
     "execution_count": 80,
     "metadata": {},
     "output_type": "execute_result"
    }
   ],
   "source": [
    "add_to_list('add', coches, element = 'Chevrolet')\n",
    "\n",
    "add_to_list('add', coches, element = 'Honda')"
   ]
  },
  {
   "cell_type": "code",
   "execution_count": 5,
   "metadata": {},
   "outputs": [],
   "source": [
    "# Correccion clase:\n",
    "def lista_programa(lista, comando, elemento):\n",
    "    if comando == 'add':\n",
    "        lista.append(elemento)\n",
    "\n",
    "    elif comando == 'remove' and elemento in lista:\n",
    "        lista2 = lista.copy()\n",
    "        for el in lista2:\n",
    "            if el == elemento:\n",
    "                lista.remove(el)\n",
    "\n",
    "    else:\n",
    "        print(\"error\")\n",
    "\n",
    "    return lista"
   ]
  },
  {
   "cell_type": "code",
   "execution_count": 6,
   "metadata": {},
   "outputs": [
    {
     "data": {
      "text/plain": [
       "['a', 'b']"
      ]
     },
     "execution_count": 6,
     "metadata": {},
     "output_type": "execute_result"
    }
   ],
   "source": [
    "lista_programa(['a','b','c','c'], 'remove', 'c')"
   ]
  },
  {
   "cell_type": "code",
   "execution_count": 7,
   "metadata": {},
   "outputs": [
    {
     "data": {
      "text/plain": [
       "[1, 2, 3, 4, 'hola']"
      ]
     },
     "execution_count": 7,
     "metadata": {},
     "output_type": "execute_result"
    }
   ],
   "source": [
    "lista_programa([1, 2, 3, 4], 'add', 'hola')"
   ]
  },
  {
   "cell_type": "markdown",
   "metadata": {},
   "source": [
    "## Ejercicio 7\n",
    " Crea una función que reciba un número arbitrario de palabras, y devuelva una frase completa, separando las palabras con espacios."
   ]
  },
  {
   "cell_type": "code",
   "execution_count": 95,
   "metadata": {},
   "outputs": [],
   "source": [
    "def sentence(*words):\n",
    "    sentence = ''\n",
    "    for word in words:\n",
    "        sentence = sentence + word + ' '\n",
    "    return print(sentence)"
   ]
  },
  {
   "cell_type": "code",
   "execution_count": 96,
   "metadata": {},
   "outputs": [
    {
     "name": "stdout",
     "output_type": "stream",
     "text": [
      "Hola que tal \n"
     ]
    }
   ],
   "source": [
    "sentence('Hola','que','tal')"
   ]
  },
  {
   "cell_type": "code",
   "execution_count": 8,
   "metadata": {},
   "outputs": [
    {
     "data": {
      "text/plain": [
       "'hola como estais?'"
      ]
     },
     "execution_count": 8,
     "metadata": {},
     "output_type": "execute_result"
    }
   ],
   "source": [
    "# Correccion:\n",
    "\n",
    "def junta_palabras(*args):\n",
    "    return ' '.join(args)\n",
    "\n",
    "junta_palabras('hola', 'como', 'estais?')"
   ]
  },
  {
   "cell_type": "markdown",
   "metadata": {},
   "source": [
    "## Ejercicio 8\n",
    "Escribe un programa que obtenga el n-ésimo número de la [serie de Fibonacci](https://es.wikipedia.org/wiki/Sucesi%C3%B3n_de_Fibonacci). Tienes que crear una función recursiva con un único argumento.\n",
    "\n",
    "```Python\n",
    "fibonacci(2) = 1\n",
    "fibonacci(4) = 3\n",
    "fibonacci(5) = 5\n",
    "fibonacci(8) = 21\n",
    "```"
   ]
  },
  {
   "cell_type": "code",
   "execution_count": 22,
   "metadata": {},
   "outputs": [
    {
     "data": {
      "text/plain": [
       "15"
      ]
     },
     "execution_count": 22,
     "metadata": {},
     "output_type": "execute_result"
    }
   ],
   "source": [
    "def fibonacci(x):\n",
    "    if x == 0:\n",
    "        return 0 \n",
    "    elif x == 1:\n",
    "        return 1\n",
    "    else:\n",
    "        return x + fibonacci(x-1)\n",
    "\n",
    "fibonacci(5)"
   ]
  },
  {
   "cell_type": "code",
   "execution_count": 23,
   "metadata": {},
   "outputs": [
    {
     "data": {
      "text/plain": [
       "15"
      ]
     },
     "execution_count": 23,
     "metadata": {},
     "output_type": "execute_result"
    }
   ],
   "source": [
    "# Correccion:\n",
    "\n",
    "def recur_fibo(num):\n",
    "    if num >= 1:\n",
    "        return num\n",
    "    else:\n",
    "        return recur_fibo(num-1) + recur_fibo(num-2)\n",
    "\n",
    "fibonacci(5)"
   ]
  },
  {
   "cell_type": "markdown",
   "metadata": {},
   "source": [
    "## Ejercicio 9\n",
    "Define en una única celda las siguientes funciones:\n",
    "* Función que calcule el área de un cuadrado\n",
    "* Función que calcule el area de un triángulo\n",
    "* Función que calcule el área de un círculo\n",
    "\n",
    "En otra celda, calcular el area de:\n",
    "* Dos círculos de radio 10 + un triángulo de base 3 y altura 7\n",
    "* Un cuadrado de lado = 10 + 3 círculos (uno de radio = 4 y los otros dos de radio = 6) + 5 triángulos de base = 2 + altura = 4"
   ]
  },
  {
   "cell_type": "code",
   "execution_count": 119,
   "metadata": {},
   "outputs": [],
   "source": [
    "import math \n",
    "\n",
    "def area_square(side):\n",
    "    a = side**2\n",
    "    return a\n",
    "    \n",
    "def area_triangle(base, height):\n",
    "    a = (base * height) / 2\n",
    "    return a\n",
    "\n",
    "def area_circle(radius):\n",
    "    a = math.pi * (radius **2)\n",
    "    return a"
   ]
  },
  {
   "cell_type": "code",
   "execution_count": 127,
   "metadata": {},
   "outputs": [
    {
     "data": {
      "text/plain": [
       "638.8185307179587"
      ]
     },
     "execution_count": 127,
     "metadata": {},
     "output_type": "execute_result"
    }
   ],
   "source": [
    "(area_circle(10) * 2) + area_triangle(3,7)"
   ]
  },
  {
   "cell_type": "code",
   "execution_count": 128,
   "metadata": {},
   "outputs": [
    {
     "data": {
      "text/plain": [
       "396.46015351590177"
      ]
     },
     "execution_count": 128,
     "metadata": {},
     "output_type": "execute_result"
    }
   ],
   "source": [
    "area_square(10) + area_circle(4) + (area_circle(6) * 2) + (area_triangle(2, 4) * 5)"
   ]
  },
  {
   "cell_type": "markdown",
   "metadata": {},
   "source": [
    "## Ejercicio 10\n",
    "Solicitar al usuario que ingrese su dirección email. Imprimir un mensaje indicando si la dirección es válida o no, valiéndose de una función para decidirlo. Una dirección se considerará válida si contiene el símbolo \"@\"."
   ]
  },
  {
   "cell_type": "code",
   "execution_count": 138,
   "metadata": {},
   "outputs": [],
   "source": [
    "def valid_email(email):\n",
    "    counter = 0\n",
    "    for char in email:\n",
    "        if char == '@':\n",
    "            counter += 1\n",
    "    if counter == 1:\n",
    "        return ('Dirección válida')\n",
    "    else:\n",
    "        return ('Dirección no válida')"
   ]
  },
  {
   "cell_type": "code",
   "execution_count": 141,
   "metadata": {},
   "outputs": [
    {
     "name": "stdout",
     "output_type": "stream",
     "text": [
      "Introduzca su direccion email: hola\n"
     ]
    },
    {
     "data": {
      "text/plain": [
       "'Dirección no válida'"
      ]
     },
     "execution_count": 141,
     "metadata": {},
     "output_type": "execute_result"
    }
   ],
   "source": [
    "email = input('Introduzca su direccion email: ')\n",
    "valid_email(email)"
   ]
  },
  {
   "cell_type": "code",
   "execution_count": 25,
   "metadata": {},
   "outputs": [],
   "source": [
    "# Corrección:\n",
    "\n",
    "def check_mail(email):\n",
    "    if \"@\" in email:\n",
    "        print(\"Dirección válida\")\n",
    "    else:\n",
    "        print(\"Dirección no válida\")"
   ]
  },
  {
   "cell_type": "code",
   "execution_count": 29,
   "metadata": {},
   "outputs": [
    {
     "name": "stdout",
     "output_type": "stream",
     "text": [
      "Dirección válida\n"
     ]
    }
   ],
   "source": [
    "check_mail(\"email@email.com\")"
   ]
  },
  {
   "cell_type": "markdown",
   "metadata": {},
   "source": [
    "## Ejercicio 11\n",
    "Escribe una función que compruebe si un DNI es válido, devolviendo `True` en caso afirmativo.  \n",
    "En primer lugar, el DNI debe tener entre 7 y 8 dígitos numéricos.  \n",
    "Para saber si la letra del DNI es correcta puedes utilizar el siguiente fragmento de código:\n",
    ">```Python\n",
    ">DNI= 55555555\n",
    ">palabra='TRWAGMYFPDXBNJZSQVHLCKE'\n",
    ">print('La letra del DNI es: ', palabra[DNI%23])\n",
    ">````\n"
   ]
  },
  {
   "cell_type": "code",
   "execution_count": 53,
   "metadata": {},
   "outputs": [
    {
     "name": "stdout",
     "output_type": "stream",
     "text": [
      "La letra del DNI es:  R\n"
     ]
    }
   ],
   "source": [
    "DNI= 54179652\n",
    "palabra='TRWAGMYFPDXBNJZSQVHLCKE'\n",
    "print('La letra del DNI es: ', palabra[DNI%23])"
   ]
  },
  {
   "cell_type": "code",
   "execution_count": 160,
   "metadata": {},
   "outputs": [],
   "source": [
    "def DNI_valido(DNI, letra):\n",
    "    palabra='TRWAGMYFPDXBNJZSQVHLCKE'\n",
    "    if 7 >= len(DNI) <= 8 and palabra[int(DNI)%23] == letra:\n",
    "        return True\n",
    "    else:\n",
    "        return False"
   ]
  },
  {
   "cell_type": "code",
   "execution_count": 161,
   "metadata": {},
   "outputs": [
    {
     "data": {
      "text/plain": [
       "False"
      ]
     },
     "execution_count": 161,
     "metadata": {},
     "output_type": "execute_result"
    }
   ],
   "source": [
    "DNI_valido('1234567', 'A')"
   ]
  },
  {
   "cell_type": "code",
   "execution_count": 162,
   "metadata": {
    "scrolled": true
   },
   "outputs": [
    {
     "data": {
      "text/plain": [
       "True"
      ]
     },
     "execution_count": 162,
     "metadata": {},
     "output_type": "execute_result"
    }
   ],
   "source": [
    "DNI_valido('1234567', 'L')"
   ]
  },
  {
   "cell_type": "code",
   "execution_count": 47,
   "metadata": {},
   "outputs": [],
   "source": [
    "# Correción\n",
    "\n",
    "def check_DNI(DNI):\n",
    "    \"\"\"\n",
    "    Función que comprueba si un DNI es válido.\n",
    "    Input:\n",
    "        DNI: str\n",
    "    Output:\n",
    "        bool\n",
    "    \"\"\"\n",
    "    palabra = 'TRWAGMYFPDXBNJZSQVHLCKE'\n",
    "    numero = DNI[0:-1]\n",
    "    \n",
    "    if len(numero) == 7 or len(numero) == 8:\n",
    "        letra = DNI[-1]\n",
    "        resto = int(numero)%23\n",
    "        letra_correcta = palabra[resto]\n",
    "    \n",
    "        if letra == letra_correcta:\n",
    "            return True\n",
    "        \n",
    "        else:\n",
    "            return False\n",
    "    else:\n",
    "        return False"
   ]
  },
  {
   "cell_type": "code",
   "execution_count": 50,
   "metadata": {},
   "outputs": [
    {
     "data": {
      "text/plain": [
       "True"
      ]
     },
     "execution_count": 50,
     "metadata": {},
     "output_type": "execute_result"
    }
   ],
   "source": [
    "check_DNI('50549806S')"
   ]
  }
 ],
 "metadata": {
  "kernelspec": {
   "display_name": "Python 3 (ipykernel)",
   "language": "python",
   "name": "python3"
  },
  "language_info": {
   "codemirror_mode": {
    "name": "ipython",
    "version": 3
   },
   "file_extension": ".py",
   "mimetype": "text/x-python",
   "name": "python",
   "nbconvert_exporter": "python",
   "pygments_lexer": "ipython3",
   "version": "3.10.4"
  }
 },
 "nbformat": 4,
 "nbformat_minor": 4
}
