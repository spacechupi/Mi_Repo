{
 "cells": [
  {
   "cell_type": "markdown",
   "metadata": {},
   "source": [
    "## Ejercicio 1\n",
    "\n",
    "Dada la siguiente lista\n",
    "> ejer_1 = [\"VW\", \"Audi\", \"Renault\", \"VW\", \"BMW\"]\n",
    "\n"
   ]
  },
  {
   "cell_type": "markdown",
   "metadata": {},
   "source": [
    "1. Elimina todos los VW de la siguiente lista. Crea una lista nueva para ello."
   ]
  },
  {
   "cell_type": "code",
   "execution_count": 11,
   "metadata": {},
   "outputs": [
    {
     "name": "stdout",
     "output_type": "stream",
     "text": [
      "['VW', 'Audi', 'Renault', 'VW', 'BMW']\n",
      "['Audi', 'Renault', 'BMW']\n"
     ]
    }
   ],
   "source": [
    "ejer_1 = [\"VW\", \"Audi\", \"Renault\", \"VW\", \"BMW\"]\n",
    "ejer_2 = ejer_1.copy()\n",
    "\n",
    "for marca in ejer_2:\n",
    "    if marca == \"VW\":\n",
    "        ejer_2.remove(marca)\n",
    "        \n",
    "print(ejer_1)\n",
    "print(ejer_2)"
   ]
  },
  {
   "cell_type": "markdown",
   "metadata": {},
   "source": [
    "2. Hazlo de otra manera. Crea una lista nueva, y ve añadiendo todos los que no sean VW"
   ]
  },
  {
   "cell_type": "code",
   "execution_count": 12,
   "metadata": {},
   "outputs": [
    {
     "name": "stdout",
     "output_type": "stream",
     "text": [
      "['Audi', 'Renault', 'BMW']\n"
     ]
    }
   ],
   "source": [
    "L = []\n",
    "\n",
    "for marca in ejer_1:\n",
    "    if marca != 'VW':\n",
    "        L.append(marca)\n",
    "\n",
    "print(L)"
   ]
  },
  {
   "cell_type": "markdown",
   "metadata": {},
   "source": [
    "3. En vez de `for`, usa un bucle `while`"
   ]
  },
  {
   "cell_type": "code",
   "execution_count": 14,
   "metadata": {},
   "outputs": [
    {
     "name": "stdout",
     "output_type": "stream",
     "text": [
      "['VW', 'Audi', 'Renault', 'VW', 'BMW']\n",
      "['Audi', 'Renault', 'BMW']\n"
     ]
    }
   ],
   "source": [
    "L2 = []\n",
    "i = 0\n",
    "\n",
    "while i < len(ejer_1):\n",
    "    if ejer_1[i] != \"VW\":\n",
    "        L2.append(ejer_1[i])\n",
    "    i +=1 # i = i + 1\n",
    "    \n",
    "print(ejer_1)\n",
    "print(L2)"
   ]
  },
  {
   "cell_type": "markdown",
   "metadata": {},
   "source": [
    "## Ejercicio 2\n",
    "Imprime por pantalla la siguiente secuencia: 10, 9, 8.... -8, -9, -10"
   ]
  },
  {
   "cell_type": "code",
   "execution_count": 23,
   "metadata": {},
   "outputs": [
    {
     "name": "stdout",
     "output_type": "stream",
     "text": [
      "10, 9, 8, 7, 6, 5, 4, 3, 2, 1, 0, -1, -2, -3, -4, -5, -6, -7, -8, -9, -10\n"
     ]
    }
   ],
   "source": [
    "for var in range(10, -11, -1):\n",
    "    if var > -10:\n",
    "        print(var, end = ', ')\n",
    "    else:\n",
    "        print(var)"
   ]
  },
  {
   "cell_type": "code",
   "execution_count": 29,
   "metadata": {},
   "outputs": [
    {
     "name": "stdout",
     "output_type": "stream",
     "text": [
      "10\n",
      "9\n",
      "8\n",
      "7\n",
      "6\n",
      "5\n",
      "4\n",
      "3\n",
      "2\n",
      "1\n",
      "0\n",
      "-1\n",
      "-2\n",
      "-3\n",
      "-4\n",
      "-5\n",
      "-6\n",
      "-7\n",
      "-8\n",
      "-9\n",
      "-10\n",
      "-11\n"
     ]
    }
   ],
   "source": [
    "# Se puede hacer con un while:\n",
    "\n",
    "num = 11\n",
    "\n",
    "while num > -11:\n",
    "    num -= 1\n",
    "    print (num)"
   ]
  },
  {
   "cell_type": "markdown",
   "metadata": {},
   "source": [
    "## Ejercicio 3\n",
    "1. Escribe un programa que vaya pidiendo numeros al usuario. Cuando el usuario introduzca el 0, el programa tiene que imprimir por pantalla el sumatorio de todos los numeros positivos introducidos"
   ]
  },
  {
   "cell_type": "code",
   "execution_count": 46,
   "metadata": {},
   "outputs": [
    {
     "name": "stdout",
     "output_type": "stream",
     "text": [
      "Introduzca un número: -1\n",
      "Introduzca un número: 1\n",
      "Introduzca un número: 2\n",
      "Introduzca un número: 3\n",
      "Introduzca un número: 4\n",
      "Introduzca un número: 0\n",
      "10\n"
     ]
    }
   ],
   "source": [
    "num = 1\n",
    "temp = []\n",
    "\n",
    "while num != 0:\n",
    "    num = int(input(\"Introduzca un número: \"))\n",
    "    if num > 0:\n",
    "        temp.append(num)\n",
    "        continue\n",
    "\n",
    "snum = sum(temp)\n",
    "\n",
    "print(snum)"
   ]
  },
  {
   "cell_type": "markdown",
   "metadata": {},
   "source": [
    "2. Además de la suma, queremos que imprima también una lista con todos los números."
   ]
  },
  {
   "cell_type": "code",
   "execution_count": 45,
   "metadata": {},
   "outputs": [
    {
     "name": "stdout",
     "output_type": "stream",
     "text": [
      "Introduzca un número: -1\n",
      "Introduzca un número: 1\n",
      "Introduzca un número: 2\n",
      "Introduzca un número: 3\n",
      "Introduzca un número: 4\n",
      "Introduzca un número: 0\n",
      "[1, 2, 3, 4]\n",
      "10\n"
     ]
    }
   ],
   "source": [
    "num = 1\n",
    "temp = []\n",
    "\n",
    "while num != 0:\n",
    "    num = int(input (\"Introduzca un número: \"))\n",
    "    if num > 0:\n",
    "        temp.append(num)\n",
    "        continue\n",
    "\n",
    "snum = sum(temp)\n",
    "\n",
    "print (temp)\n",
    "print(snum)"
   ]
  },
  {
   "cell_type": "markdown",
   "metadata": {},
   "source": [
    "## Ejercicio 4\n",
    "Escribe un programa que calcule la cantidad de veces que está la letra \"m\" o \"M\" en la frase:\n",
    "> \"En un lugar de La Mancha, de cuyo nombre no quiero acordarme\""
   ]
  },
  {
   "cell_type": "code",
   "execution_count": 49,
   "metadata": {},
   "outputs": [
    {
     "name": "stdout",
     "output_type": "stream",
     "text": [
      "3\n"
     ]
    }
   ],
   "source": [
    "frase = \"En un lugar de La Mancha, de cuyo nombre no quiero acordarme\"\n",
    "contador = 0\n",
    "\n",
    "for letra in frase.lower():\n",
    "    if letra == \"m\":\n",
    "        contador += 1\n",
    "\n",
    "print(contador)"
   ]
  },
  {
   "cell_type": "markdown",
   "metadata": {},
   "source": [
    "## Ejercicio 5\n",
    "Imprime toda la secuencia de numeros del 1 al 10, excepto el 3, 4 y 9. Impleméntalo de dos maneras diferentes"
   ]
  },
  {
   "cell_type": "code",
   "execution_count": 40,
   "metadata": {},
   "outputs": [
    {
     "name": "stdout",
     "output_type": "stream",
     "text": [
      "1 2 5 6 7 8 10 "
     ]
    }
   ],
   "source": [
    "for num in range(1,11):\n",
    "    if num == 3 or num == 4 or num == 9:\n",
    "        continue\n",
    "    else:\n",
    "        print(num, end = \" \")"
   ]
  },
  {
   "cell_type": "code",
   "execution_count": 44,
   "metadata": {},
   "outputs": [
    {
     "name": "stdout",
     "output_type": "stream",
     "text": [
      "1 2 5 6 7 8 10 "
     ]
    }
   ],
   "source": [
    "num = 0\n",
    "\n",
    "while num < 10:\n",
    "    num += 1\n",
    "    if num == 3 or num == 4 or num == 9:\n",
    "        continue\n",
    "    else:\n",
    "        print(num, end = \" \")"
   ]
  },
  {
   "cell_type": "code",
   "execution_count": 1,
   "metadata": {},
   "outputs": [
    {
     "name": "stdout",
     "output_type": "stream",
     "text": [
      "[0, 1, 2, 3, 4, 5, 6, 7, 8, 9, 10]\n"
     ]
    }
   ],
   "source": [
    "# Otras maneras de hacerlo:\n",
    "\n",
    "numeros = list(range(11))\n",
    "numeros2 = numeros.copy()\n",
    "\n",
    "for num in numeros:\n",
    "    if num == 3 or num == 4 or num == 9:\n",
    "        numeros.remove(num)\n",
    "            \n",
    "print (numeros2)"
   ]
  },
  {
   "cell_type": "markdown",
   "metadata": {},
   "source": [
    "## Ejercicio 6\n",
    "Suponiendo que siempre se cumple que las dos listas del ejercicio son iguales de tamaño, implementa un programa que calcule el ratio ingreso/gasto de cada elemento, y lo guarde en una nueva lista. Si hubiese algún problema con los datos, hay que almacenar un mensaje de error en la lista del resultado. Usa `try/except`\n",
    "> ingresos = [100, 200, 500, 100, 600]\n",
    ">\n",
    "> gastos = [50, 20, 70, 0, 25]"
   ]
  },
  {
   "cell_type": "code",
   "execution_count": 7,
   "metadata": {},
   "outputs": [],
   "source": [
    "from math import *"
   ]
  },
  {
   "cell_type": "code",
   "execution_count": 12,
   "metadata": {},
   "outputs": [
    {
     "data": {
      "text/plain": [
       "[2.0, 10.0, 7.142857142857143, ZeroDivisionError('division by zero'), 24.0]"
      ]
     },
     "execution_count": 12,
     "metadata": {},
     "output_type": "execute_result"
    }
   ],
   "source": [
    "ingresos = [100, 200, 500, 100, 600]\n",
    "gastos = [50, 20, 70, 0, 25]\n",
    "ratio = []\n",
    "\n",
    "for i in range(len(ingresos)):\n",
    "    try:\n",
    "        ratio.append(ingresos[i]/gastos[i])\n",
    "    except Exception as ex:\n",
    "        ratio.append(ex)\n",
    "        \n",
    "ratio"
   ]
  }
 ],
 "metadata": {
  "kernelspec": {
   "display_name": "Python 3 (ipykernel)",
   "language": "python",
   "name": "python3"
  },
  "language_info": {
   "codemirror_mode": {
    "name": "ipython",
    "version": 3
   },
   "file_extension": ".py",
   "mimetype": "text/x-python",
   "name": "python",
   "nbconvert_exporter": "python",
   "pygments_lexer": "ipython3",
   "version": "3.10.4"
  }
 },
 "nbformat": 4,
 "nbformat_minor": 4
}
