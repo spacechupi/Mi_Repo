{
 "cells": [
  {
   "cell_type": "markdown",
   "metadata": {},
   "source": [
    "# Ejercicios Flujos de control"
   ]
  },
  {
   "cell_type": "markdown",
   "metadata": {},
   "source": [
    "## Ejercicio 1\n",
    "Declara una variable numérica que será una hora cualquiera del día. Implementa mediante sentencias `if/elif/else` la siguiente casuística:\n",
    "\n",
    "* Si es entre las 0 y las 8, print \"Durmiendo\"\n",
    "* Si es entre las 9 y las 18, print \"Trabajando\"\n",
    "* Si es entre las 19 y las 21, print \"Clase\"\n",
    "* Si es entre las 22 y las 24, print \"Descanso\"\n",
    "* En cualquier otro caso, print \"Transporte o error\""
   ]
  },
  {
   "cell_type": "code",
   "execution_count": 7,
   "metadata": {},
   "outputs": [
    {
     "name": "stdout",
     "output_type": "stream",
     "text": [
      "Transporte o error\n"
     ]
    }
   ],
   "source": [
    "hora = 21\n",
    "\n",
    "if hora > 0 and hora < 8:\n",
    "    print (\"Durmiendo\")\n",
    "\n",
    "elif hora > 9 and hora < 18:\n",
    "    print (\"Trabajando\")\n",
    "    \n",
    "elif hora > 19 and hora < 21:\n",
    "    print (\"Clase\")\n",
    "\n",
    "elif hora > 22 and hora < 24:\n",
    "    print (\"Descanso\")\n",
    "\n",
    "else:\n",
    "    print (\"Transporte o error\")"
   ]
  },
  {
   "cell_type": "markdown",
   "metadata": {},
   "source": [
    "## Ejercicio 2\n",
    "En este ejercicio vamos a implementar un calculador de precios de casas muy sencillo. Tenemos las siguientes variables:\n",
    "\n",
    "> superficie\n",
    ">\n",
    "> distrito\n",
    "\n",
    "Implementa mediante sentencias `if/elif/else` la siguiente casuística:\n",
    "\n",
    "1. Si el distrito es \"Moncloa\" o \"Centro\", y además la superficie es superior a 100 metros cuadrados, el precio de la casa es de 1000\n",
    "2. Si el distrito es \"Salamanca\", y además la superficie de la casa es al menos de 150 metros, el precio de la casa es de 1500\n",
    "3. Si el distrito no es \"Retiro\" y la superficie está entre 60 y 80 metros, el precio es de 600\n",
    "4. En cualquier otro caso, el precio será de 0"
   ]
  },
  {
   "cell_type": "code",
   "execution_count": 23,
   "metadata": {},
   "outputs": [],
   "source": [
    "superficie = 60\n",
    "distrito = \"Latina\"\n",
    "\n",
    "\n",
    "# 1. \n",
    "\n",
    "if distrito == \"Moncloa\" or distrito == \"Centro\" and superficie > 100:\n",
    "    precio = 1000\n",
    "\n",
    "# 2.\n",
    "\n",
    "elif distrito == \"Salamanca\" and superficie > 150:\n",
    "    precio = 1500\n",
    "\n",
    "# 3.\n",
    "\n",
    "elif distrito != \"Retiro\" and superficie >=60 and superficie <=80:\n",
    "    precio = 600\n",
    "    \n",
    "# 4.\n",
    "\n",
    "else:\n",
    "    precio = 0"
   ]
  },
  {
   "cell_type": "code",
   "execution_count": 24,
   "metadata": {},
   "outputs": [
    {
     "data": {
      "text/plain": [
       "600"
      ]
     },
     "execution_count": 24,
     "metadata": {},
     "output_type": "execute_result"
    }
   ],
   "source": [
    "precio"
   ]
  },
  {
   "cell_type": "markdown",
   "metadata": {},
   "source": [
    "## Ejercicio 3\n",
    "En este ejercicio vamos a realizar un programa muy parecido. Para este caso queremos que se cumplan las siguientes condiciones:\n",
    "\n",
    "1. Primero se compruebe si el distrito es \"Retiro\". Si es asi, que imprima \"Distrito Retiro\", y si no, \"Otro distrito\"\n",
    "2. Si el distrito es \"Retiro\", comprueba si si la superficie es mayor de 100 metros cuadrados. En tal caso que imprima un precio de 1000, y si no, de 500.\n",
    "\n",
    "Hay que usar `ifs` anidados"
   ]
  },
  {
   "cell_type": "code",
   "execution_count": 25,
   "metadata": {},
   "outputs": [
    {
     "name": "stdout",
     "output_type": "stream",
     "text": [
      "Otro distrito\n"
     ]
    }
   ],
   "source": [
    "# 1.\n",
    "if distrito == \"Retiro\":\n",
    "    print (\"Distrito Retiro\")\n",
    "    if superficie >= 100 :\n",
    "        precio = 1000\n",
    "        print ('Precio: 1000')\n",
    "    else:\n",
    "        precio = 500\n",
    "        print ('Precio: 500')\n",
    "\n",
    "else:\n",
    "    print ('Otro distrito')"
   ]
  },
  {
   "cell_type": "markdown",
   "metadata": {},
   "source": [
    "## Ejercicio 4\n",
    "Escribe un programa que tenga dos variables: un numero, y una lista numérica. El programa debe recorrer la lista e imprimir por pantalla cada elemento de la lista multiplicado por el número"
   ]
  },
  {
   "cell_type": "code",
   "execution_count": 28,
   "metadata": {},
   "outputs": [
    {
     "name": "stdout",
     "output_type": "stream",
     "text": [
      "-24\n",
      "12\n",
      "1044\n",
      "11688\n",
      "-48\n",
      "92.4\n"
     ]
    }
   ],
   "source": [
    "var_num = 12\n",
    "list_num = [-2, 1, 87, 974, -4, 7.7]\n",
    "\n",
    "for var_ind in list_num:\n",
    "    print (var_ind * var_num)"
   ]
  },
  {
   "cell_type": "markdown",
   "metadata": {},
   "source": [
    "## Ejercicio 5\n",
    "Imprime por pantalla los números -10 al -1. En ese orden. Consulta [la documentación](https://www.w3schools.com/python/ref_func_range.asp) de `range`"
   ]
  },
  {
   "cell_type": "code",
   "execution_count": 39,
   "metadata": {},
   "outputs": [
    {
     "name": "stdout",
     "output_type": "stream",
     "text": [
      "-10\n",
      "-9\n",
      "-8\n",
      "-7\n",
      "-6\n",
      "-5\n",
      "-4\n",
      "-3\n",
      "-2\n",
      "-1\n"
     ]
    }
   ],
   "source": [
    "num_range = range(-10, 0)\n",
    "\n",
    "for num in num_range:\n",
    "    print (num)"
   ]
  },
  {
   "cell_type": "markdown",
   "metadata": {},
   "source": [
    "## Ejercicio 6\n",
    "Dada la siguiente lista:\n",
    "\n",
    "> list1 = [12, 15, 32, 42, 55, 75, 122, 132, 150, 180, 200]\n",
    "\n",
    "Implementa un programa que los recorra e imprima por pantalla todos los divisibles por 5. Si nos encontramos con alguno que sea mayor que 150, detener el bucle."
   ]
  },
  {
   "cell_type": "code",
   "execution_count": 51,
   "metadata": {
    "scrolled": true
   },
   "outputs": [
    {
     "name": "stdout",
     "output_type": "stream",
     "text": [
      "15\n",
      "55\n",
      "75\n",
      "150\n"
     ]
    }
   ],
   "source": [
    "list1 = [12, 15, 32, 42, 55, 75, 122, 132, 150, 180, 200]\n",
    "\n",
    "for num_list in list1:\n",
    "    if num_list > 150:\n",
    "        break\n",
    "    else:\n",
    "        if num_list % 5 == 0:\n",
    "            print (num_list)"
   ]
  },
  {
   "cell_type": "markdown",
   "metadata": {},
   "source": [
    "## Ejercicio 7\n",
    "Escribe un programa en Python que imprima por pantalla todos los números divisibles por 5 y divisibles por 7, dentro del rango de valores (150, 350)"
   ]
  },
  {
   "cell_type": "code",
   "execution_count": 52,
   "metadata": {},
   "outputs": [
    {
     "name": "stdout",
     "output_type": "stream",
     "text": [
      "175\n",
      "210\n",
      "245\n",
      "280\n",
      "315\n"
     ]
    }
   ],
   "source": [
    "for numerikoh in range (150, 350):\n",
    "    if numerikoh % 5 == 0 and numerikoh % 7 == 0:\n",
    "        print (numerikoh)"
   ]
  },
  {
   "cell_type": "markdown",
   "metadata": {},
   "source": [
    "## Ejercicio 8\n",
    "Implementa un programa que imprima por pantalla el siguiente patrón\n",
    "\n",
    "5 4 3 2 1   \n",
    "4 3 2 1   \n",
    "3 2 1   \n",
    "2 1   \n",
    "1\n"
   ]
  },
  {
   "cell_type": "code",
   "execution_count": 102,
   "metadata": {
    "scrolled": false
   },
   "outputs": [
    {
     "name": "stdout",
     "output_type": "stream",
     "text": [
      "54321\n",
      "4321\n",
      "321\n",
      "21\n",
      "1\n"
     ]
    }
   ],
   "source": [
    "for variable_iterativa in range (5, 0, -1): \n",
    "# range (start, stop, step), es decir, entre todos los números del 5 al 0, haciendo un incremento del -1 en cada paso (5, 4, 3, 2, 1)\n",
    "    for variable_iterativa2 in range (variable_iterativa, 0, -1): \n",
    "    # Por cada número en el rango entre (variable en la que esté el bucle anterior y 0, incrementando -1 en cada paso)    \n",
    "        print (variable_iterativa2, end=\"\") \n",
    "        # Imprime todos los valores de la variable iterativa secuencialmente.\n",
    "    print () # Esto es sólo para hacer salto de línea."
   ]
  },
  {
   "cell_type": "markdown",
   "metadata": {},
   "source": [
    "## Ejercicio 9\n",
    "En este ejercicio vamos a crear un pequeño juego. Se trata de intentar adivinar un numero del 1 al 5. Tenemos dos intentos para acertar. Pasos a seguir:\n",
    "\n",
    "1. En la siguiente celda ya viene implementado cómo obtener un número aleatorio del 1 al 5\n",
    "2. Tendrás que declarar en una variable el numero de vidas, y mediante un bucle while, comprobar que todavia quedan vidas.\n",
    "3. Dentro del bucle, pedir al usuario que introduzca un número y comprobar si es ese el numero a adivinar. Si no, actualizar las vidas.\n",
    "4. Si acertamos, salimos del bucle e imprimimos por pantalla \"You win\". Y si perdemos también salimos del bucle, pero en este caso imprimimos por pantalla \"You lose\"."
   ]
  },
  {
   "cell_type": "code",
   "execution_count": 9,
   "metadata": {},
   "outputs": [
    {
     "name": "stdout",
     "output_type": "stream",
     "text": [
      "Guess the number (between 1 and 5): 2\n",
      "Wrong guess! You have 1 life left.\n",
      "Guess the number (between 1 and 5): 2\n",
      "You lose!\n"
     ]
    }
   ],
   "source": [
    "from random import randint\n",
    "random_number = randint(1, 5) # Genera un numero aleatorio del 1 al 5\n",
    "\n",
    "lives = 2\n",
    "\n",
    "while lives > 0:\n",
    "    guess = int (input ('Guess the number (between 1 and 5): '))\n",
    "\n",
    "    if guess == random_number:\n",
    "        print ('You win!')\n",
    "        break\n",
    "    \n",
    "    if guess != random_number:\n",
    "        lives -= 1\n",
    "        if lives > 0:\n",
    "            print ('Wrong guess! You have 1 life left.')\n",
    "            continue\n",
    "        else:\n",
    "            print ('You lose!')\n",
    "            break"
   ]
  },
  {
   "cell_type": "code",
   "execution_count": 14,
   "metadata": {},
   "outputs": [
    {
     "name": "stdout",
     "output_type": "stream",
     "text": [
      "Guess the number (between 1 and 5): 4\n",
      "Wrong guess! You have 1 life left.\n",
      "Guess again: 3\n",
      "You lose!\n",
      "Thanks for playing!\n"
     ]
    }
   ],
   "source": [
    "# Esta versión incluye un texto distinto cuando quedan pocas vidas.\n",
    "\n",
    "from random import randint\n",
    "random_number = randint(1, 5) # Genera un numero aleatorio del 1 al 5\n",
    "\n",
    "lives = 2\n",
    "\n",
    "guess = int (input ('Guess the number (between 1 and 5): '))\n",
    "\n",
    "while lives > 0:\n",
    "    if guess == random_number:\n",
    "        print ('You win!')\n",
    "        break\n",
    "    \n",
    "    if guess != random_number:\n",
    "        lives -= 1\n",
    "        \n",
    "        if lives > 0 :\n",
    "            if lives < 1:\n",
    "                    print ('Wrong guess! You have', lives, 'lives left.')\n",
    "            if lives == 1:\n",
    "                    print ('Wrong guess! You have 1 life left.')\n",
    "                    \n",
    "            guess = int (input ('Guess again: '))\n",
    "            continue\n",
    "        \n",
    "        if lives == 0 :\n",
    "            print ('You lose!')\n",
    "            break \n",
    "            \n",
    "print ('Thanks for playing!')"
   ]
  },
  {
   "cell_type": "code",
   "execution_count": null,
   "metadata": {},
   "outputs": [],
   "source": [
    "# Quise meterle un loop try / except pero no se funsiona :( \n",
    "\n",
    "from random import randint\n",
    "random_number = randint(1, 5) \n",
    "\n",
    "lives = 2\n",
    "loop = True\n",
    "\n",
    "while loop = True:\n",
    "    try:\n",
    "        guess = int (input ('Guess the number (between 1 and 5): '))\n",
    "\n",
    "        while lives > 0:\n",
    "            if guess > 5 or guess < 1:\n",
    "                guess = int (input ('Please enter a number between 1 and 5: '))\n",
    "            if guess == random_number:\n",
    "                print ('You win!')\n",
    "                break\n",
    "\n",
    "            if guess != random_number:\n",
    "                lives -= 1\n",
    "\n",
    "                if lives > 0 :\n",
    "                    if lives < 1:\n",
    "                            print ('Wrong guess! You have', lives, 'lives left.')\n",
    "                    if lives == 1:\n",
    "                            print ('Wrong guess! You have 1 life left.')\n",
    "\n",
    "                    guess = int (input ('Guess again: '))\n",
    "                    continue\n",
    "\n",
    "                if lives == 0 :\n",
    "                    print ('You lose!')\n",
    "                    break \n",
    "                \n",
    "        loop = False\n",
    "\n",
    "    except:\n",
    "        try:\n",
    "            guess = int (input ('Please enter a whole numeral: '))\n",
    "            \n",
    "            while lives > 0:\n",
    "                if guess > 5 or guess < 1:\n",
    "                    guess = int (input ('Please enter a number between 1 and 5: '))\n",
    "                if guess == random_number:\n",
    "                    print ('You win!')\n",
    "                    break\n",
    "\n",
    "                if guess != random_number:\n",
    "                    lives -= 1\n",
    "\n",
    "                    if lives > 0 :\n",
    "                        if lives < 1:\n",
    "                                print ('Wrong guess! You have', lives, 'lives left.')\n",
    "                        if lives == 1:\n",
    "                                print ('Wrong guess! You have 1 life left.')\n",
    "\n",
    "                        guess = int (input ('Guess again: '))\n",
    "                        continue\n",
    "\n",
    "                    if lives == 0 :\n",
    "                        print ('You lose!')\n",
    "                        break \n",
    "            loop = False\n",
    "                        \n",
    "        except:\n",
    "            print ('Okay, now you are just messing with me.')\n",
    "            break"
   ]
  },
  {
   "cell_type": "markdown",
   "metadata": {},
   "source": [
    "## Ejercicios extra"
   ]
  },
  {
   "cell_type": "markdown",
   "metadata": {},
   "source": [
    "Más ejercicios en [este link](https://www.w3resource.com/python-exercises/python-conditional-statements-and-loop-exercises.php)\n",
    "\n",
    "Y [aquí](https://erlerobotics.gitbooks.io/erle-robotics-learning-python-gitbook-free/loops/exercises_loops.html)"
   ]
  }
 ],
 "metadata": {
  "kernelspec": {
   "display_name": "Python 3 (ipykernel)",
   "language": "python",
   "name": "python3"
  },
  "language_info": {
   "codemirror_mode": {
    "name": "ipython",
    "version": 3
   },
   "file_extension": ".py",
   "mimetype": "text/x-python",
   "name": "python",
   "nbconvert_exporter": "python",
   "pygments_lexer": "ipython3",
   "version": "3.10.4"
  }
 },
 "nbformat": 4,
 "nbformat_minor": 4
}
