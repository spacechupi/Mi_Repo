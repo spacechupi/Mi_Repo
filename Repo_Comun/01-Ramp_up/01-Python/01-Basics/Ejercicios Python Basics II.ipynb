{
 "cells": [
  {
   "cell_type": "markdown",
   "metadata": {},
   "source": [
    "# Ejercicios Python Basics II"
   ]
  },
  {
   "cell_type": "markdown",
   "metadata": {},
   "source": [
    "## Ejercicio 1\n",
    "1. Crea dos variables numericas: un `int` y un `float`\n",
    "2. Comprueba sus tipos\n",
    "3. Sumalas en otra nueva\n",
    "4. ¿De qué tipo es la nueva variable?\n",
    "5. Elimina las dos primeras variables creadas"
   ]
  },
  {
   "cell_type": "code",
   "execution_count": 111,
   "metadata": {},
   "outputs": [
    {
     "name": "stdout",
     "output_type": "stream",
     "text": [
      "1.\n",
      "var_int = 1\n",
      "var_float = 3.12\n",
      "<class 'int'>\n",
      "<class 'float'>\n",
      "4.12\n",
      "<class 'float'>\n"
     ]
    },
    {
     "ename": "NameError",
     "evalue": "name 'var_int' is not defined",
     "output_type": "error",
     "traceback": [
      "\u001b[1;31m---------------------------------------------------------------------------\u001b[0m",
      "\u001b[1;31mNameError\u001b[0m                                 Traceback (most recent call last)",
      "Input \u001b[1;32mIn [111]\u001b[0m, in \u001b[0;36m<cell line: 24>\u001b[1;34m()\u001b[0m\n\u001b[0;32m     21\u001b[0m \u001b[38;5;28;01mdel\u001b[39;00m (var_int)\n\u001b[0;32m     22\u001b[0m \u001b[38;5;28;01mdel\u001b[39;00m (var_float)\n\u001b[1;32m---> 24\u001b[0m \u001b[38;5;28mprint\u001b[39m (\u001b[43mvar_int\u001b[49m)\n\u001b[0;32m     25\u001b[0m \u001b[38;5;28mprint\u001b[39m (var_float)\n",
      "\u001b[1;31mNameError\u001b[0m: name 'var_int' is not defined"
     ]
    }
   ],
   "source": [
    "# 1.\n",
    "var_int = 1\n",
    "var_float = 3.12\n",
    "\n",
    "print (\"1.\")\n",
    "print (\"var_int = 1\")\n",
    "print (\"var_float = 3.12\")\n",
    "\n",
    "# 2.\n",
    "print (type (var_int))\n",
    "print (type (var_float))\n",
    "\n",
    "# 3.\n",
    "var_sum = (var_int + var_float)\n",
    "print (var_sum)\n",
    "\n",
    "# 4.\n",
    "print (type (var_sum))\n",
    "\n",
    "#5. \n",
    "del (var_int)\n",
    "del (var_float)\n",
    "\n",
    "print (var_int)\n",
    "print (var_float)"
   ]
  },
  {
   "cell_type": "markdown",
   "metadata": {},
   "source": [
    "## Ejercicio 2\n",
    "Escribe un programa para pasar de grados a radianes. Hay que usar `input`. Recuerda que la conversión se realiza mediante\n",
    "\n",
    "radianes = grados*(pi/180)"
   ]
  },
  {
   "cell_type": "code",
   "execution_count": 15,
   "metadata": {},
   "outputs": [
    {
     "name": "stdout",
     "output_type": "stream",
     "text": [
      "¿Cuál es el valor en grados? 15\n",
      "Equivale a 0.2617993877991494 radianes.\n"
     ]
    }
   ],
   "source": [
    "import math\n",
    "\n",
    "grados = input (\"¿Cuál es el valor en grados? \")\n",
    "radianes = float (grados) * (math.pi / 180)\n",
    "print (\"Equivale a \" + str(radianes) + \" radianes.\")"
   ]
  },
  {
   "cell_type": "markdown",
   "metadata": {},
   "source": [
    "## Ejercicio 3\n",
    "Escribe un programa que calcule el area de un paralelogramo (base x altura). También con `input`"
   ]
  },
  {
   "cell_type": "code",
   "execution_count": 17,
   "metadata": {},
   "outputs": [
    {
     "name": "stdout",
     "output_type": "stream",
     "text": [
      "¿Cuál es la base del paralelogramo? 2\n",
      "¿Cuál es la altura del paralelogramo? 2\n",
      "El area del paralelogramo es de 4.0.\n"
     ]
    }
   ],
   "source": [
    "base = input (\"¿Cuál es la base del paralelogramo? \")\n",
    "altura = input (\"¿Cuál es la altura del paralelogramo? \")\n",
    "area = float (base) * float (altura)\n",
    "print (\"El area del paralelogramo es de \" + str(area) + \".\")"
   ]
  },
  {
   "cell_type": "markdown",
   "metadata": {},
   "source": [
    "## Ejercicio 4\n",
    "Tenemos las siguientes variables:\n",
    "\n",
    "```Python\n",
    "A = 4\n",
    "B = \"Text\"\n",
    "C = 4.1\n",
    "```\n",
    "\n",
    "Comprueba:\n",
    "1. Si A y B son equivalentes\n",
    "2. Si A y C NO son equivalentes\n",
    "3. Si A es mayor que C \n",
    "4. Si C es menor o igual que A\n",
    "5. Si B NO es equivalente a C"
   ]
  },
  {
   "cell_type": "code",
   "execution_count": 46,
   "metadata": {},
   "outputs": [
    {
     "name": "stdout",
     "output_type": "stream",
     "text": [
      "1. A y B no son equivalentes.\n",
      "1. A y C no son equivalentes.\n",
      "1. A no es mayor que C.\n",
      "1. C no es menor o igual a A.\n",
      "1. B no es equivalente a C.\n"
     ]
    }
   ],
   "source": [
    "# Primero definimos las variables:\n",
    "A = 4\n",
    "B = \"Text\"\n",
    "C = 4.1\n",
    "\n",
    "# 1.\n",
    "if (A == B):\n",
    "    print (\"1. A y B son equivalentes.\")\n",
    "    \n",
    "else:\n",
    "    print (\"1. A y B no son equivalentes.\")\n",
    "\n",
    "# 2. \n",
    "if (A != C):\n",
    "    print (\"1. A y C no son equivalentes.\")\n",
    "    \n",
    "else:\n",
    "    print (\"1. A y C sí son equivalentes.\")\n",
    "\n",
    "# 3. \n",
    "if (A > C):\n",
    "     print (\"1. A es mayor que C.\")\n",
    "    \n",
    "else:\n",
    "    print (\"1. A no es mayor que C.\")\n",
    "\n",
    "# 4. \n",
    "if (C <= A):\n",
    "     print (\"1. C es menor o igual a A.\")\n",
    "    \n",
    "else:\n",
    "    print (\"1. C no es menor o igual a A.\")\n",
    "\n",
    "# 5. \n",
    "if (B != C):\n",
    "       print (\"1. B no es equivalente a C.\")\n",
    "    \n",
    "else:\n",
    "    print (\"1. B sí es equivalente a C.\")"
   ]
  },
  {
   "cell_type": "markdown",
   "metadata": {},
   "source": [
    "## Ejercicio 5\n",
    "Crea un programa donde se recojan dos inputs del usuario, y el output del programa sea si esos inputs son iguales o no"
   ]
  },
  {
   "cell_type": "code",
   "execution_count": 41,
   "metadata": {},
   "outputs": [
    {
     "name": "stdout",
     "output_type": "stream",
     "text": [
      "Introduzca un número. 1\n",
      "Introduzca otro número. 2\n",
      "Los números no son iguales.\n"
     ]
    }
   ],
   "source": [
    "var1 = input (\"Introduzca un número. \")\n",
    "var2 = input (\"Introduzca otro número. \")\n",
    "\n",
    "if (var1 == var2):\n",
    "    print (\"Los números son iguales.\")\n",
    "    \n",
    "else:\n",
    "    print (\"Los números no son iguales.\")"
   ]
  },
  {
   "cell_type": "markdown",
   "metadata": {},
   "source": [
    "## Ejercicio 6\n",
    "Mismo programa que en 5, pero en esta ocasión tienen que ser tres inputs y dos salidas. Una de las salidas que nos indique si todos son iguales, y la otra si al menos dos inputs sí que lo son"
   ]
  },
  {
   "cell_type": "code",
   "execution_count": 40,
   "metadata": {},
   "outputs": [
    {
     "name": "stdout",
     "output_type": "stream",
     "text": [
      "Introduzca un número. 1\n",
      "Introduzca otro número. 2\n",
      "Introduzca un tercer número. 3\n",
      "No todos los números son iguales.\n",
      "Ninguno de los números son iguales.\n"
     ]
    }
   ],
   "source": [
    "var1 = input (\"Introduzca un número. \")\n",
    "var2 = input (\"Introduzca otro número. \")\n",
    "var3 = input (\"Introduzca un tercer número. \")\n",
    "\n",
    "if (var1 == var2 and var2 == var3):\n",
    "    print (\"Todos los números son iguales.\")\n",
    "    \n",
    "else:\n",
    "    print (\"No todos los números son iguales.\")\n",
    "    \n",
    "    if (var1 == var2 or var1 == var3 or var2 == var3):\n",
    "        print (\"Al menos dos de los números son iguales.\")\n",
    "        \n",
    "    else:\n",
    "        print (\"Ninguno de los números son iguales.\")"
   ]
  },
  {
   "cell_type": "markdown",
   "metadata": {},
   "source": [
    "## Ejercicio 7\n",
    "Crea un programa que recoja dos inputs. Tiene que comprobar si su suma es igual, superior o inferior a 10"
   ]
  },
  {
   "cell_type": "code",
   "execution_count": 47,
   "metadata": {},
   "outputs": [
    {
     "name": "stdout",
     "output_type": "stream",
     "text": [
      "Introduzca un número. 1\n",
      "Introduzca otro número. 2\n",
      "La suma de estos dos números es menor a 10.\n"
     ]
    }
   ],
   "source": [
    "var1 = input (\"Introduzca un número. \")\n",
    "var2 = input (\"Introduzca otro número. \")\n",
    "\n",
    "varsum = float (var1) + float (var2)\n",
    "if (varsum < 10):\n",
    "    print (\"La suma de estos dos números es menor a 10.\")\n",
    "    \n",
    "if (varsum == 10):\n",
    "    print (\"La suma de estos dos números es igual a 10.\")\n",
    "    \n",
    "if (varsum > 10):\n",
    "    print (\"La suma de estos dos números es mayor a 10.\")"
   ]
  },
  {
   "cell_type": "markdown",
   "metadata": {},
   "source": [
    "## Ejercicio 8\n",
    "Razona sin ejecutar código el output que obtendremos de las siguientes sentencias\n",
    "1. True and True and False\n",
    "2. not ((True or False) and (True or False))\n",
    "3. (False or False or False or True) and False\n",
    "4. not False and True and not True"
   ]
  },
  {
   "cell_type": "markdown",
   "metadata": {},
   "source": [
    "1. False\n",
    "2. False\n",
    "3. False\n",
    "4. False"
   ]
  },
  {
   "cell_type": "markdown",
   "metadata": {},
   "source": [
    "## Ejercicio 9\n",
    "Para este ejercicio vamos a poner en práctica [las funciones built in](https://docs.python.org/3/library/functions.html).\n",
    "\n",
    "1. Calcula el máximo de la lista: [4, 6, 8, -1]\n",
    "2. Suma todos los elementos de la lista anterior\n",
    "3. Redondea este float a 3 dígitos decimales: 63.451256965\n",
    "4. Valor absoluto de: -74"
   ]
  },
  {
   "cell_type": "code",
   "execution_count": 113,
   "metadata": {},
   "outputs": [
    {
     "name": "stdout",
     "output_type": "stream",
     "text": [
      "1. 8\n",
      "2. 17\n",
      "3. 63.451\n",
      "4. 74\n"
     ]
    }
   ],
   "source": [
    "# Primero, definimos la lista:\n",
    "lista = [4, 6, 8, -1]\n",
    "\n",
    "# 1. Utilizamos la función max:\n",
    "print (\"1. \" + str(max (lista)))\n",
    "\n",
    "# 2. Utilizamos la función sum:\n",
    "print (\"2. \" + str(sum (lista))) \n",
    "\n",
    "# 3. Utilizamos la función round:\n",
    "print (\"3. \" + str(round (63.451256965, 3)))\n",
    "\n",
    "# 4. Utilizamos la función abs:\n",
    "print (\"4. \" + str(abs(-74)))\n"
   ]
  },
  {
   "cell_type": "markdown",
   "metadata": {},
   "source": [
    "## Ejercicio 10\n",
    "Para el siguiente string se pide imprimir por pantalla los siguientes casos\n",
    "\n",
    "    \"A quien madruga, dios le ayuda\"\n",
    "\n",
    "1. Pasarlo todo a mayusculas\n",
    "2. Pasarlo todo a minusculas\n",
    "3. Solo las iniciales de las palabras\n",
    "4. Crea una lista dividiendolo por sus espacios\n",
    "5. Sustituye las comas `,` por puntos y comas `;`\n",
    "6. Elimina las `a` minusculas"
   ]
  },
  {
   "cell_type": "code",
   "execution_count": 116,
   "metadata": {},
   "outputs": [
    {
     "name": "stdout",
     "output_type": "stream",
     "text": [
      "1. A QUIEN MADRUGA, DIOS LE AYUDA.\n",
      "2. a quien madruga, dios le ayuda.\n",
      "3. A Quien Madruga, Dios Le Ayuda.\n",
      "4. ['A', 'quien', 'madruga,', 'dios', 'le', 'ayuda.']\n",
      "5. A quien madruga; dios le ayuda.\n",
      "6. A quien mdrug, dios le yud.\n"
     ]
    }
   ],
   "source": [
    "earlybird = \"A quien madruga, dios le ayuda.\"\n",
    "\n",
    "# 1. Utilizamos la función upper:\n",
    "print (\"1. \" + (earlybird.upper()))\n",
    "\n",
    "# 2. Utilizamos la función lower:\n",
    "print (\"2. \" + (earlybird.lower()))\n",
    "\n",
    "# 3. Utilizamos la función title:\n",
    "print (\"3. \" + (earlybird.title()))\n",
    "\n",
    "# 4. Utilizamos la función split:\n",
    "print (\"4. \" + str((earlybird.split(\" \"))))\n",
    "\n",
    "# 5. Utilizamos la función replace:\n",
    "print (\"5. \" + (earlybird.replace (\",\" , \";\")))\n",
    "\n",
    "# 6. Utilizamos la función replace:\n",
    "print (\"6. \" + (earlybird.replace (\"a\" , \"\")))"
   ]
  },
  {
   "cell_type": "markdown",
   "metadata": {},
   "source": [
    "## Ejercicio 11\n",
    "1. Crea una lista con 3 elementos numéricos\n",
    "2. Añade un cuarto elemento\n",
    "3. Calcula la suma de todos\n",
    "4. Elimina el segundo elemento de la lista\n",
    "5. Añade otro elemento en la posicion 3 de la lista\n",
    "6. Crea otra lista con 4 elementos y concaténala a la que ya tenías."
   ]
  },
  {
   "cell_type": "code",
   "execution_count": 107,
   "metadata": {},
   "outputs": [
    {
     "name": "stdout",
     "output_type": "stream",
     "text": [
      "1. [24.7, 90, -21]\n",
      "2. [24.7, 90, -21, 45]\n",
      "3. 138.7\n",
      "4. [24.7, -21, 45]\n",
      "5. [24.7, -21, 12, 45]\n",
      "6. [24.7, -21, 12, 45, 1, 2, 3, 4]\n"
     ]
    }
   ],
   "source": [
    "# 1.\n",
    "lista2 = [24.7, 90, -21]\n",
    "print (\"1. \" + str (lista2))\n",
    "\n",
    "# 2.\n",
    "lista2.append (45)\n",
    "print (\"2. \" + str (lista2))\n",
    "\n",
    "# 3.\n",
    "print (\"3. \" + str(sum(lista2)))\n",
    "\n",
    "# 4.\n",
    "lista2.remove (90)\n",
    "print (\"4. \" + str (lista2))\n",
    "\n",
    "# 5.\n",
    "lista2.insert (2 , 12)\n",
    "print (\"5. \" + str (lista2))\n",
    "\n",
    "# Aquí puede haber un poco de confusión sobre cómo se cuenta la tercera posición, ya que Python interpreta la primera posición como 0.\n",
    "\n",
    "# 6.\n",
    "lista3 = [1, 2, 3, 4]\n",
    "lista_add = (lista2 + lista3)\n",
    "print (\"6. \" + str (lista_add))"
   ]
  }
 ],
 "metadata": {
  "kernelspec": {
   "display_name": "Python 3 (ipykernel)",
   "language": "python",
   "name": "python3"
  },
  "language_info": {
   "codemirror_mode": {
    "name": "ipython",
    "version": 3
   },
   "file_extension": ".py",
   "mimetype": "text/x-python",
   "name": "python",
   "nbconvert_exporter": "python",
   "pygments_lexer": "ipython3",
   "version": "3.10.4"
  }
 },
 "nbformat": 4,
 "nbformat_minor": 4
}
