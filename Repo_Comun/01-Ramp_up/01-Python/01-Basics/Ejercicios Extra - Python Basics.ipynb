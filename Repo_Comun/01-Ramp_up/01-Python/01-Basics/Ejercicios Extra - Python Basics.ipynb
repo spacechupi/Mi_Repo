{
 "cells": [
  {
   "cell_type": "markdown",
   "id": "2d8b3ce1",
   "metadata": {},
   "source": [
    "# Extra Practice - Python Basics:"
   ]
  },
  {
   "attachments": {
    "Twinkle,%20twinkle.png": {
     "image/png": "[encoded data removed]"
    }
   },
   "cell_type": "markdown",
   "id": "51119b4f",
   "metadata": {},
   "source": [
    "### Exercise 1. \n",
    "\n",
    "Write a Python program to print the following string in a specific format (see the output):\n",
    "\n",
    "![Twinkle,%20twinkle.png](attachment:Twinkle,%20twinkle.png)"
   ]
  },
  {
   "cell_type": "code",
   "execution_count": null,
   "id": "74994f58",
   "metadata": {},
   "outputs": [],
   "source": []
  },
  {
   "cell_type": "markdown",
   "id": "beab135c",
   "metadata": {},
   "source": [
    "### Exercise 2. \n",
    "\n",
    "Write a Python program which accepts the radius of a circle from the user and compute the area."
   ]
  },
  {
   "cell_type": "code",
   "execution_count": null,
   "id": "fc6a70a0",
   "metadata": {},
   "outputs": [],
   "source": []
  },
  {
   "cell_type": "markdown",
   "id": "5ef00051",
   "metadata": {},
   "source": [
    "### Exercise 3. \n",
    "\n",
    "Write a Python program which accepts the user's first and last name and print them in reverse order with a space between them."
   ]
  },
  {
   "cell_type": "code",
   "execution_count": null,
   "id": "746d296b",
   "metadata": {},
   "outputs": [],
   "source": []
  },
  {
   "cell_type": "markdown",
   "id": "8c15c816",
   "metadata": {},
   "source": [
    "### Exercise 4.\n",
    "\n",
    "Write a Python program that accepts an integer (n) and computes the value of n+nn+nnn."
   ]
  },
  {
   "cell_type": "code",
   "execution_count": null,
   "id": "d341f1ac",
   "metadata": {},
   "outputs": [],
   "source": []
  }
 ],
 "metadata": {
  "kernelspec": {
   "display_name": "Python 3 (ipykernel)",
   "language": "python",
   "name": "python3"
  },
  "language_info": {
   "codemirror_mode": {
    "name": "ipython",
    "version": 3
   },
   "file_extension": ".py",
   "mimetype": "text/x-python",
   "name": "python",
   "nbconvert_exporter": "python",
   "pygments_lexer": "ipython3",
   "version": "3.10.4"
  }
 },
 "nbformat": 4,
 "nbformat_minor": 5
}
