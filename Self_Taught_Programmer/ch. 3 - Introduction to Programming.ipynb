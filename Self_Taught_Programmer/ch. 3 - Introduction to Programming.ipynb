{
 "cells": [
  {
   "cell_type": "markdown",
   "id": "e7c7ce89",
   "metadata": {},
   "source": [
    "Podemos utilizar **triples comillas** para hacer impresiones de textos **multilínea**."
   ]
  },
  {
   "cell_type": "code",
   "execution_count": 6,
   "id": "0f00052f",
   "metadata": {
    "scrolled": true
   },
   "outputs": [
    {
     "name": "stdout",
     "output_type": "stream",
     "text": [
      "This is a really really\n",
      "really really really\n",
      "really really really\n",
      "long line of code\n"
     ]
    }
   ],
   "source": [
    "print('''This is a really really\n",
    "really really really\n",
    "really really really\n",
    "long line of code''')"
   ]
  },
  {
   "cell_type": "markdown",
   "id": "0c43771b",
   "metadata": {},
   "source": [
    "### Data types:\n",
    "\n",
    "Each data value is called an ***object***.\n",
    "\n",
    "Each object has three properties:\n",
    "\n",
    "    1. Identity\n",
    "    2. Data type\n",
    "    3. Value\n",
    "    \n",
    "An object's **identity** is its location in the computer's memory, which never changes.\n",
    "\n",
    "The **data type** of the object is the category of data it belongs to, which determines the properties of the object and never changes.\n",
    "\n",
    "The **value** of an object is the data it represents. For example, the number 2 has a value of 2.\n",
    "\n",
    "An object can have the following data types:\n",
    "\n",
    "    1. String\n",
    "    2. Integer\n",
    "    3. Floating-point number\n",
    "    4. Boolean\n",
    "    5. NoneType"
   ]
  },
  {
   "cell_type": "markdown",
   "id": "54bd3d95",
   "metadata": {},
   "source": [
    "A **string** or **str** is a sequence of one or more characters. A **character** is any single alphanumeric or special symbol.\n",
    "\n",
    "Strings must be surrounded by quotes. You can use single or double quotes as long as they match.\n",
    "\n",
    "Strings are used to represent text."
   ]
  },
  {
   "cell_type": "code",
   "execution_count": 8,
   "id": "a0c1bbd4",
   "metadata": {},
   "outputs": [
    {
     "data": {
      "text/plain": [
       "'Hello, world!'"
      ]
     },
     "execution_count": 8,
     "metadata": {},
     "output_type": "execute_result"
    }
   ],
   "source": [
    "# This is an example of a string.\n",
    "\n",
    "\"Hello, world!\""
   ]
  },
  {
   "cell_type": "code",
   "execution_count": 9,
   "id": "bc3f33ed",
   "metadata": {},
   "outputs": [
    {
     "data": {
      "text/plain": [
       "str"
      ]
     },
     "execution_count": 9,
     "metadata": {},
     "output_type": "execute_result"
    }
   ],
   "source": [
    "# You can use the type command to verify its type.\n",
    "\n",
    "type(\"Hello, world!\")"
   ]
  },
  {
   "cell_type": "markdown",
   "id": "b29910fd",
   "metadata": {},
   "source": [
    "An **integer** or **int** is any whole number, positive or negative.\n",
    "\n",
    "Integers have special properties which allow you to perform mathematical operations."
   ]
  },
  {
   "cell_type": "code",
   "execution_count": 10,
   "id": "862196cc",
   "metadata": {},
   "outputs": [
    {
     "data": {
      "text/plain": [
       "5"
      ]
     },
     "execution_count": 10,
     "metadata": {},
     "output_type": "execute_result"
    }
   ],
   "source": [
    "# This is an example of an integer.\n",
    "\n",
    "5"
   ]
  },
  {
   "cell_type": "code",
   "execution_count": 11,
   "id": "2338654a",
   "metadata": {
    "scrolled": true
   },
   "outputs": [
    {
     "data": {
      "text/plain": [
       "int"
      ]
     },
     "execution_count": 11,
     "metadata": {},
     "output_type": "execute_result"
    }
   ],
   "source": [
    "type(5)"
   ]
  },
  {
   "cell_type": "code",
   "execution_count": 15,
   "id": "0deb7857",
   "metadata": {},
   "outputs": [
    {
     "data": {
      "text/plain": [
       "int"
      ]
     },
     "execution_count": 15,
     "metadata": {},
     "output_type": "execute_result"
    }
   ],
   "source": [
    "type(-2)"
   ]
  },
  {
   "cell_type": "code",
   "execution_count": 12,
   "id": "a9b06019",
   "metadata": {
    "scrolled": true
   },
   "outputs": [
    {
     "data": {
      "text/plain": [
       "9"
      ]
     },
     "execution_count": 12,
     "metadata": {},
     "output_type": "execute_result"
    }
   ],
   "source": [
    "5 + 4"
   ]
  },
  {
   "cell_type": "markdown",
   "id": "f0f8d23f",
   "metadata": {},
   "source": [
    "Decimal numbers are called **floating-point** numbers or **float**."
   ]
  },
  {
   "cell_type": "code",
   "execution_count": 13,
   "id": "b6f7ef17",
   "metadata": {},
   "outputs": [
    {
     "data": {
      "text/plain": [
       "1.234"
      ]
     },
     "execution_count": 13,
     "metadata": {},
     "output_type": "execute_result"
    }
   ],
   "source": [
    "# This is an example of a floating-point number.\n",
    "\n",
    "1.234"
   ]
  },
  {
   "cell_type": "code",
   "execution_count": 14,
   "id": "f2fa0755",
   "metadata": {},
   "outputs": [
    {
     "data": {
      "text/plain": [
       "float"
      ]
     },
     "execution_count": 14,
     "metadata": {},
     "output_type": "execute_result"
    }
   ],
   "source": [
    "type(1.234)"
   ]
  },
  {
   "cell_type": "code",
   "execution_count": 16,
   "id": "c9d6de82",
   "metadata": {},
   "outputs": [
    {
     "data": {
      "text/plain": [
       "float"
      ]
     },
     "execution_count": 16,
     "metadata": {},
     "output_type": "execute_result"
    }
   ],
   "source": [
    "type(-77.77)"
   ]
  },
  {
   "cell_type": "code",
   "execution_count": 19,
   "id": "92f856e5",
   "metadata": {},
   "outputs": [
    {
     "data": {
      "text/plain": [
       "3.3"
      ]
     },
     "execution_count": 19,
     "metadata": {},
     "output_type": "execute_result"
    }
   ],
   "source": [
    "2.1 + 1.2"
   ]
  },
  {
   "cell_type": "markdown",
   "id": "68336a33",
   "metadata": {},
   "source": [
    "Objects with a bool data type are called **booleans**, and have a value of True or False."
   ]
  },
  {
   "cell_type": "code",
   "execution_count": 20,
   "id": "20d46694",
   "metadata": {},
   "outputs": [
    {
     "data": {
      "text/plain": [
       "True"
      ]
     },
     "execution_count": 20,
     "metadata": {},
     "output_type": "execute_result"
    }
   ],
   "source": [
    "True"
   ]
  },
  {
   "cell_type": "code",
   "execution_count": 21,
   "id": "465f6a1f",
   "metadata": {},
   "outputs": [
    {
     "data": {
      "text/plain": [
       "False"
      ]
     },
     "execution_count": 21,
     "metadata": {},
     "output_type": "execute_result"
    }
   ],
   "source": [
    "False"
   ]
  },
  {
   "cell_type": "code",
   "execution_count": 22,
   "id": "117a17c1",
   "metadata": {},
   "outputs": [
    {
     "data": {
      "text/plain": [
       "bool"
      ]
     },
     "execution_count": 22,
     "metadata": {},
     "output_type": "execute_result"
    }
   ],
   "source": [
    "type(True)"
   ]
  },
  {
   "cell_type": "markdown",
   "id": "61f0af1c",
   "metadata": {},
   "source": [
    "Objects with a data type **NoneType** always have the value None. They are used to represent the absence of value."
   ]
  },
  {
   "cell_type": "code",
   "execution_count": 23,
   "id": "8c99d54e",
   "metadata": {},
   "outputs": [],
   "source": [
    "None"
   ]
  },
  {
   "cell_type": "code",
   "execution_count": 24,
   "id": "8b461e30",
   "metadata": {},
   "outputs": [
    {
     "data": {
      "text/plain": [
       "NoneType"
      ]
     },
     "execution_count": 24,
     "metadata": {},
     "output_type": "execute_result"
    }
   ],
   "source": [
    "type(None)"
   ]
  },
  {
   "cell_type": "markdown",
   "id": "27410e24",
   "metadata": {},
   "source": [
    "### Constants and Variables:\n",
    "\n",
    "A **constant** is a value that never changes. For example, the number 2 will always have a value of 2.\n",
    "\n",
    "A **variable** refers to a value that can change. A variable consists of a name made up of one or more characters. That name is assigned a value using the **assignment operator** (the = sign)."
   ]
  },
  {
   "cell_type": "code",
   "execution_count": 29,
   "id": "0ca7f544",
   "metadata": {},
   "outputs": [
    {
     "data": {
      "text/plain": [
       "100"
      ]
     },
     "execution_count": 29,
     "metadata": {},
     "output_type": "execute_result"
    }
   ],
   "source": [
    "x = 100\n",
    "x"
   ]
  },
  {
   "cell_type": "code",
   "execution_count": 30,
   "id": "e5a13f74",
   "metadata": {},
   "outputs": [
    {
     "data": {
      "text/plain": [
       "200"
      ]
     },
     "execution_count": 30,
     "metadata": {},
     "output_type": "execute_result"
    }
   ],
   "source": [
    "x = 200\n",
    "x"
   ]
  },
  {
   "cell_type": "code",
   "execution_count": 33,
   "id": "4fec92ad",
   "metadata": {},
   "outputs": [
    {
     "name": "stdout",
     "output_type": "stream",
     "text": [
      "25\n",
      "5\n",
      "125\n"
     ]
    }
   ],
   "source": [
    "# Using variables to perform arithmetic operations:\n",
    "\n",
    "x = 15\n",
    "y = 10\n",
    "z = x + y\n",
    "a = x - y\n",
    "b = z * a\n",
    "\n",
    "print (z)\n",
    "print (a)\n",
    "print (b)"
   ]
  },
  {
   "cell_type": "markdown",
   "id": "ad495bce",
   "metadata": {},
   "source": [
    "A common operation is **incrementing** or **decrementing** the value of a variable. "
   ]
  },
  {
   "cell_type": "code",
   "execution_count": 34,
   "id": "f9985f2a",
   "metadata": {},
   "outputs": [
    {
     "data": {
      "text/plain": [
       "11"
      ]
     },
     "execution_count": 34,
     "metadata": {},
     "output_type": "execute_result"
    }
   ],
   "source": [
    "x = 10\n",
    "x = x + 1\n",
    "x"
   ]
  },
  {
   "cell_type": "code",
   "execution_count": 35,
   "id": "a477c09a",
   "metadata": {},
   "outputs": [
    {
     "data": {
      "text/plain": [
       "11"
      ]
     },
     "execution_count": 35,
     "metadata": {},
     "output_type": "execute_result"
    }
   ],
   "source": [
    "# You can use the shorcut += or -=\n",
    "x = 10\n",
    "x += 1\n",
    "x"
   ]
  },
  {
   "cell_type": "markdown",
   "id": "ffd800de",
   "metadata": {},
   "source": [
    "Variables can be any data type."
   ]
  },
  {
   "cell_type": "code",
   "execution_count": 37,
   "id": "3433631a",
   "metadata": {},
   "outputs": [
    {
     "name": "stdout",
     "output_type": "stream",
     "text": [
      "Hello, world!\n"
     ]
    },
    {
     "data": {
      "text/plain": [
       "str"
      ]
     },
     "execution_count": 37,
     "metadata": {},
     "output_type": "execute_result"
    }
   ],
   "source": [
    "hi = 'Hello, world!'\n",
    "\n",
    "print(hi)\n",
    "\n",
    "type(hi)"
   ]
  },
  {
   "cell_type": "markdown",
   "id": "988885c1",
   "metadata": {},
   "source": [
    "Variable naming rules:\n",
    "    \n",
    "    1. Variables can't have spaces. Instead, use an underscore (_).\n",
    "    2. Variable names can only contain letters, numbers, and the underscore symbol.\n",
    "    3. You cannot start a variable name with a number.\n",
    "    4. You cannot use Python keywords for variable names."
   ]
  },
  {
   "cell_type": "markdown",
   "id": "0057cb26",
   "metadata": {},
   "source": [
    "### Errors and Exceptions:\n",
    "\n",
    "**Syntax** is the set of rules, principles and processes that govern the structure in a given language. You must use correct Python syntax for your code to work. A type of syntax error is an **indentation error**.\n",
    "\n",
    "**Syntax errors** are fatal, meaning your program cannot run with a syntax error."
   ]
  },
  {
   "cell_type": "code",
   "execution_count": 38,
   "id": "6388ebe6",
   "metadata": {},
   "outputs": [
    {
     "ename": "SyntaxError",
     "evalue": "unterminated string literal (detected at line 3) (3948719627.py, line 3)",
     "output_type": "error",
     "traceback": [
      "\u001b[1;36m  Input \u001b[1;32mIn [38]\u001b[1;36m\u001b[0m\n\u001b[1;33m    my_string = \"Hello, World!\u001b[0m\n\u001b[1;37m                ^\u001b[0m\n\u001b[1;31mSyntaxError\u001b[0m\u001b[1;31m:\u001b[0m unterminated string literal (detected at line 3)\n"
     ]
    }
   ],
   "source": [
    "# Example of code with a syntax error:\n",
    "\n",
    "my_string = \"Hello, World!"
   ]
  },
  {
   "cell_type": "markdown",
   "id": "b93a93e1",
   "metadata": {},
   "source": [
    "The other type of error is **exceptions**, which is any kind of error that is not a syntax error."
   ]
  },
  {
   "cell_type": "code",
   "execution_count": 39,
   "id": "88f88993",
   "metadata": {},
   "outputs": [
    {
     "ename": "ZeroDivisionError",
     "evalue": "division by zero",
     "output_type": "error",
     "traceback": [
      "\u001b[1;31m---------------------------------------------------------------------------\u001b[0m",
      "\u001b[1;31mZeroDivisionError\u001b[0m                         Traceback (most recent call last)",
      "Input \u001b[1;32mIn [39]\u001b[0m, in \u001b[0;36m<cell line: 4>\u001b[1;34m()\u001b[0m\n\u001b[0;32m      2\u001b[0m x \u001b[38;5;241m=\u001b[39m \u001b[38;5;241m10\u001b[39m\n\u001b[0;32m      3\u001b[0m y \u001b[38;5;241m=\u001b[39m \u001b[38;5;241m0\u001b[39m\n\u001b[1;32m----> 4\u001b[0m z \u001b[38;5;241m=\u001b[39m \u001b[43mx\u001b[49m\u001b[43m \u001b[49m\u001b[38;5;241;43m/\u001b[39;49m\u001b[43m \u001b[49m\u001b[43my\u001b[49m\n\u001b[0;32m      6\u001b[0m z\n",
      "\u001b[1;31mZeroDivisionError\u001b[0m: division by zero"
     ]
    }
   ],
   "source": [
    "# An example would be division by zero.\n",
    "x = 10\n",
    "y = 0\n",
    "z = x / y\n",
    "\n",
    "z"
   ]
  },
  {
   "cell_type": "markdown",
   "id": "88fe765f",
   "metadata": {},
   "source": [
    "Exceptions can be accounted for using a **try/except loop**."
   ]
  },
  {
   "attachments": {
    "arithmetic-operation-in-python.png": {
     "image/png": "[encoded data removed]"
    }
   },
   "cell_type": "markdown",
   "id": "d3cab52d",
   "metadata": {},
   "source": [
    "### Arithmetic Operators:\n",
    "\n",
    "The symbols used to perform arithmetic operations are called **operators**. \n",
    "\n",
    "These are the most common arithmetic operators:\n",
    "\n",
    "![arithmetic-operation-in-python.png](attachment:arithmetic-operation-in-python.png)"
   ]
  },
  {
   "cell_type": "code",
   "execution_count": 40,
   "id": "34ff51ac",
   "metadata": {},
   "outputs": [
    {
     "data": {
      "text/plain": [
       "2"
      ]
     },
     "execution_count": 40,
     "metadata": {},
     "output_type": "execute_result"
    }
   ],
   "source": [
    "13 // 5"
   ]
  },
  {
   "cell_type": "code",
   "execution_count": 41,
   "id": "834b4450",
   "metadata": {},
   "outputs": [
    {
     "data": {
      "text/plain": [
       "3"
      ]
     },
     "execution_count": 41,
     "metadata": {},
     "output_type": "execute_result"
    }
   ],
   "source": [
    "13 % 5"
   ]
  },
  {
   "cell_type": "markdown",
   "id": "713f986b",
   "metadata": {},
   "source": [
    "The values on either side of an operator are called **operands**. Together, two operands and an operator form an **expression**.\n",
    "\n",
    "Arithmetic operations follow a particular **order of operations**:\n",
    "\n",
    "    1. Parentheses\n",
    "    2. Exponents\n",
    "    3. Multiplication & Division\n",
    "    4. Addition & Subtraction\n",
    "    \n",
    "If there is a tie among operators, you evaluate from left to right."
   ]
  },
  {
   "cell_type": "code",
   "execution_count": 42,
   "id": "49ec1bb2",
   "metadata": {},
   "outputs": [
    {
     "data": {
      "text/plain": [
       "6"
      ]
     },
     "execution_count": 42,
     "metadata": {},
     "output_type": "execute_result"
    }
   ],
   "source": [
    "2 + 2 * 2"
   ]
  },
  {
   "cell_type": "code",
   "execution_count": 43,
   "id": "dbadc0ce",
   "metadata": {},
   "outputs": [
    {
     "data": {
      "text/plain": [
       "8"
      ]
     },
     "execution_count": 43,
     "metadata": {},
     "output_type": "execute_result"
    }
   ],
   "source": [
    "(2 + 2) * 2"
   ]
  },
  {
   "attachments": {
    "relational-operator-in-python.png": {
     "image/png": "[encoded data removed]"
    }
   },
   "cell_type": "markdown",
   "id": "d9a6cb5e",
   "metadata": {},
   "source": [
    "### Comparison Operators:\n",
    "\n",
    "**Comparison operators** are another category of operators in which the expression evaluates to either True or False.\n",
    "\n",
    "![relational-operator-in-python.png](attachment:relational-operator-in-python.png)"
   ]
  },
  {
   "cell_type": "code",
   "execution_count": 44,
   "id": "f407c451",
   "metadata": {},
   "outputs": [
    {
     "data": {
      "text/plain": [
       "True"
      ]
     },
     "execution_count": 44,
     "metadata": {},
     "output_type": "execute_result"
    }
   ],
   "source": [
    "4 > 2"
   ]
  },
  {
   "cell_type": "code",
   "execution_count": 45,
   "id": "84aa668a",
   "metadata": {},
   "outputs": [
    {
     "data": {
      "text/plain": [
       "False"
      ]
     },
     "execution_count": 45,
     "metadata": {},
     "output_type": "execute_result"
    }
   ],
   "source": [
    "4 < 2"
   ]
  },
  {
   "cell_type": "code",
   "execution_count": 46,
   "id": "ef190e41",
   "metadata": {},
   "outputs": [
    {
     "data": {
      "text/plain": [
       "False"
      ]
     },
     "execution_count": 46,
     "metadata": {},
     "output_type": "execute_result"
    }
   ],
   "source": [
    "4 == 2"
   ]
  },
  {
   "cell_type": "code",
   "execution_count": 47,
   "id": "3c90dce4",
   "metadata": {},
   "outputs": [
    {
     "data": {
      "text/plain": [
       "True"
      ]
     },
     "execution_count": 47,
     "metadata": {},
     "output_type": "execute_result"
    }
   ],
   "source": [
    "4 != 2"
   ]
  },
  {
   "attachments": {
    "logical-operator-in-python-1.png": {
     "image/png": "[encoded data removed]"
    }
   },
   "cell_type": "markdown",
   "id": "9d8c5c35",
   "metadata": {},
   "source": [
    "### Logical Operators:\n",
    "\n",
    "**Logical operators** are another category of operators which also evaluates to True or false.\n",
    "\n",
    "![logical-operator-in-python-1.png](attachment:logical-operator-in-python-1.png)\n",
    "\n",
    "The **and** keyword takes two or more expressions and returns True if all of them are true. Otherwise, it returns False."
   ]
  },
  {
   "cell_type": "code",
   "execution_count": 48,
   "id": "cb9050c0",
   "metadata": {
    "scrolled": true
   },
   "outputs": [
    {
     "data": {
      "text/plain": [
       "False"
      ]
     },
     "execution_count": 48,
     "metadata": {},
     "output_type": "execute_result"
    }
   ],
   "source": [
    "2 == 1 and 1 == 1"
   ]
  },
  {
   "cell_type": "code",
   "execution_count": 50,
   "id": "6105f35f",
   "metadata": {},
   "outputs": [
    {
     "data": {
      "text/plain": [
       "True"
      ]
     },
     "execution_count": 50,
     "metadata": {},
     "output_type": "execute_result"
    }
   ],
   "source": [
    "2 == 2 and 1 == 1 and 3 == 3"
   ]
  },
  {
   "cell_type": "markdown",
   "id": "dac89f7b",
   "metadata": {},
   "source": [
    "The **or** keyword takes two or more expressions and returns True if at least one of them is true. Otherwise, it returns False. "
   ]
  },
  {
   "cell_type": "code",
   "execution_count": 51,
   "id": "f79666d1",
   "metadata": {},
   "outputs": [
    {
     "data": {
      "text/plain": [
       "False"
      ]
     },
     "execution_count": 51,
     "metadata": {},
     "output_type": "execute_result"
    }
   ],
   "source": [
    "2 == 1 or 1 == 2"
   ]
  },
  {
   "cell_type": "code",
   "execution_count": 49,
   "id": "07780b2a",
   "metadata": {},
   "outputs": [
    {
     "data": {
      "text/plain": [
       "True"
      ]
     },
     "execution_count": 49,
     "metadata": {},
     "output_type": "execute_result"
    }
   ],
   "source": [
    "2 == 1 or 1 == 1"
   ]
  },
  {
   "cell_type": "markdown",
   "id": "34a7a01e",
   "metadata": {},
   "source": [
    "The **not** keyword changes the result of the evaluation it's placed in front of to the opposite of what it would have otherwise evaluated to."
   ]
  },
  {
   "cell_type": "code",
   "execution_count": 52,
   "id": "2a7d2e68",
   "metadata": {},
   "outputs": [
    {
     "data": {
      "text/plain": [
       "False"
      ]
     },
     "execution_count": 52,
     "metadata": {},
     "output_type": "execute_result"
    }
   ],
   "source": [
    "not 1 == 1"
   ]
  },
  {
   "cell_type": "code",
   "execution_count": 53,
   "id": "0e277fd9",
   "metadata": {},
   "outputs": [
    {
     "data": {
      "text/plain": [
       "True"
      ]
     },
     "execution_count": 53,
     "metadata": {},
     "output_type": "execute_result"
    }
   ],
   "source": [
    "not 1 == 2"
   ]
  },
  {
   "cell_type": "markdown",
   "id": "25099ce8",
   "metadata": {},
   "source": [
    "### Conditional Statements\n",
    "\n",
    "The keywords **if**, **elif**, and **else** are used in **conditional statements**. Conditional statements are a type of **control structure**: a block of code that makes decisions by analyzing the values of variables. A conditional statement is code that can execute additional code conditionally."
   ]
  },
  {
   "cell_type": "code",
   "execution_count": 55,
   "id": "fb5a259c",
   "metadata": {},
   "outputs": [
    {
     "name": "stdout",
     "output_type": "stream",
     "text": [
      "Hello, America!\n"
     ]
    }
   ],
   "source": [
    "# Example of an if-else statement:\n",
    "\n",
    "home = \"America\"\n",
    "if home == \"America\":\n",
    "    print(\"Hello, America!\")\n",
    "else:\n",
    "    print(\"Hello, World!\")"
   ]
  },
  {
   "cell_type": "code",
   "execution_count": 56,
   "id": "30bf35ab",
   "metadata": {},
   "outputs": [
    {
     "name": "stdout",
     "output_type": "stream",
     "text": [
      "Hello, World!\n"
     ]
    }
   ],
   "source": [
    "home = \"Spain\"\n",
    "if home == \"America\":\n",
    "    print(\"Hello, America!\")\n",
    "else:\n",
    "    print(\"Hello, World!\")"
   ]
  },
  {
   "cell_type": "code",
   "execution_count": 57,
   "id": "241e52b1",
   "metadata": {},
   "outputs": [
    {
     "name": "stdout",
     "output_type": "stream",
     "text": [
      "10!\n",
      "x is even!\n"
     ]
    }
   ],
   "source": [
    "x == 100\n",
    "\n",
    "if x == 10:\n",
    "    print(\"10!\")\n",
    "elif x == 20:\n",
    "    print(\"20!\")\n",
    "else:\n",
    "    print(\"IDK!\")\n",
    "    \n",
    "if x == 100:\n",
    "    print(\"x is 100!\")\n",
    "    \n",
    "if x % 2 == 0:\n",
    "    print(\"x is even!\")\n",
    "else:\n",
    "    print(\"x is odd!\")"
   ]
  },
  {
   "cell_type": "markdown",
   "id": "8d1fb317",
   "metadata": {},
   "source": [
    "### Statements\n",
    "\n",
    "A **statement** is a technical term that describes various parts of the Python language. Statements can be **simple** (can be expressed in a single line of code) or **compound** (span multiple lines).\n",
    "\n",
    "Compound statements are made up of one or more clauses. A clause consists of two or more lines of code: a **header** followed by (a) **suite**(s). A header is a line of code in a clause that contains a keyword, followed by a colon and a sequence of one or more lines of indented code. After the indent, there are one or more suites."
   ]
  },
  {
   "cell_type": "markdown",
   "id": "64ec6abb",
   "metadata": {},
   "source": [
    "### Challenges"
   ]
  },
  {
   "cell_type": "markdown",
   "id": "45326350",
   "metadata": {},
   "source": [
    "1. Print three different strings:"
   ]
  },
  {
   "cell_type": "code",
   "execution_count": 58,
   "id": "beb786a6",
   "metadata": {},
   "outputs": [
    {
     "name": "stdout",
     "output_type": "stream",
     "text": [
      "Hola, me llamo Diana.\n",
      "Tengo 26 años.\n",
      "Estoy aprendiendo a programar.\n"
     ]
    }
   ],
   "source": [
    "print(\"Hola, me llamo Diana.\")\n",
    "print(\"Tengo 26 años.\")\n",
    "print(\"Estoy aprendiendo a programar.\")"
   ]
  },
  {
   "cell_type": "markdown",
   "id": "47e2f485",
   "metadata": {},
   "source": [
    "2. Write a program that prints a message if a variable is less than 10, and a different message if the variable is greater than or equal to 10."
   ]
  },
  {
   "cell_type": "code",
   "execution_count": 65,
   "id": "ff90d879",
   "metadata": {},
   "outputs": [
    {
     "name": "stdout",
     "output_type": "stream",
     "text": [
      "Please introduce a number. 5\n",
      "The number is less than 10.\n"
     ]
    }
   ],
   "source": [
    "x = float(input('Please introduce a number. '))\n",
    "\n",
    "if x < 10:\n",
    "    print(\"The number is less than 10.\")\n",
    "else:\n",
    "    print(\"The number is greater than or equal to 10.\")"
   ]
  },
  {
   "cell_type": "markdown",
   "id": "100b620a",
   "metadata": {},
   "source": [
    "3. Write a program that prints a message if a variable is less than or equal to 10, another message if the variable is greater than 10 but less than or equal to 25, and another message if the variable is greater than 25."
   ]
  },
  {
   "cell_type": "code",
   "execution_count": 67,
   "id": "822c5d1d",
   "metadata": {},
   "outputs": [
    {
     "name": "stdout",
     "output_type": "stream",
     "text": [
      "Please introduce a number. 70.1\n",
      "The number is big.\n"
     ]
    }
   ],
   "source": [
    "x = float(input('Please introduce a number. '))\n",
    "\n",
    "if x <= 10:\n",
    "    print(\"The number is small.\")\n",
    "elif 10 < x <= 25: \n",
    "    print(\"The number is medium.\")\n",
    "else:\n",
    "    print(\"The number is big.\")"
   ]
  },
  {
   "cell_type": "markdown",
   "id": "ea1c0ac1",
   "metadata": {},
   "source": [
    "4. Create a program that divides two variables and prints the remainder."
   ]
  },
  {
   "cell_type": "code",
   "execution_count": 68,
   "id": "54c69a04",
   "metadata": {},
   "outputs": [
    {
     "name": "stdout",
     "output_type": "stream",
     "text": [
      "1\n"
     ]
    }
   ],
   "source": [
    "x = 10\n",
    "y = 3\n",
    "z = x % 3\n",
    "print(z)"
   ]
  },
  {
   "cell_type": "markdown",
   "id": "efa916b2",
   "metadata": {},
   "source": [
    "5. Create a program that takes two variables, divides them, and prints the quotient."
   ]
  },
  {
   "cell_type": "code",
   "execution_count": 69,
   "id": "dcfae25a",
   "metadata": {},
   "outputs": [
    {
     "name": "stdout",
     "output_type": "stream",
     "text": [
      "3\n"
     ]
    }
   ],
   "source": [
    "x = 10\n",
    "y = 3\n",
    "z = x // 3\n",
    "print(z)"
   ]
  },
  {
   "cell_type": "markdown",
   "id": "62d2cfcc",
   "metadata": {},
   "source": [
    "6. Write a program with a variable age assigned to an integer that prints different strings depending on what integer age is. "
   ]
  },
  {
   "cell_type": "code",
   "execution_count": 100,
   "id": "0755b572",
   "metadata": {},
   "outputs": [
    {
     "name": "stdout",
     "output_type": "stream",
     "text": [
      "Wow! You are really, really old.\n"
     ]
    }
   ],
   "source": [
    "age = 555\n",
    "\n",
    "if age < 0:\n",
    "    print(\"You haven't been born yet.\")\n",
    "elif age >= 0 and age < 2:\n",
    "    print(\"You are a baby.\")\n",
    "elif age < 6:\n",
    "    print(\"You are a toddler.\")\n",
    "elif age < 13:\n",
    "    print(\"You are a child.\")\n",
    "elif age < 18:\n",
    "    print(\"You are a teenager.\")\n",
    "elif age < 25:\n",
    "    print(\"You are a young adult.\")\n",
    "elif age < 45:\n",
    "    print(\"You are an adult.\")\n",
    "elif age < 65:\n",
    "    print(\"You are middle aged.\")\n",
    "elif age < 100:\n",
    "    print(\"You are elderly.\")\n",
    "elif age < 110:\n",
    "    print(\"Congrats! You are a centenarian.\")\n",
    "elif age < 120:\n",
    "    print(\"Congrats! You are a supercentenarian.\")\n",
    "else:\n",
    "    print(\"Wow! You are really, really old.\")"
   ]
  }
 ],
 "metadata": {
  "kernelspec": {
   "display_name": "Python 3 (ipykernel)",
   "language": "python",
   "name": "python3"
  },
  "language_info": {
   "codemirror_mode": {
    "name": "ipython",
    "version": 3
   },
   "file_extension": ".py",
   "mimetype": "text/x-python",
   "name": "python",
   "nbconvert_exporter": "python",
   "pygments_lexer": "ipython3",
   "version": "3.10.4"
  }
 },
 "nbformat": 4,
 "nbformat_minor": 5
}
